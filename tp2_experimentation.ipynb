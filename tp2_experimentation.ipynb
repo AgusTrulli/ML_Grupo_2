{
 "cells": [
  {
   "cell_type": "markdown",
   "metadata": {},
   "source": [
    "# Setup inicial"
   ]
  },
  {
   "cell_type": "code",
   "execution_count": 1,
   "metadata": {
    "ExecuteTime": {
     "end_time": "2020-05-21T20:05:02.536281Z",
     "start_time": "2020-05-21T20:05:00.086417Z"
    },
    "hide_input": true
   },
   "outputs": [],
   "source": [
    "import numpy as np\n",
    "import pandas as pd\n",
    "from collections import defaultdict\n",
    "\n",
    "%matplotlib inline\n",
    "from matplotlib import pyplot as plt\n",
    "\n",
    "import seaborn as sns\n",
    "\n",
    "from IPython.display import HTML, display\n",
    "from sklearn import metrics\n",
    "from sklearn.metrics import *\n",
    "from sklearn.model_selection import train_test_split\n",
    "\n",
    "from sklearn.tree import DecisionTreeClassifier\n",
    "from sklearn.ensemble import RandomForestClassifier\n",
    "from sklearn.linear_model import LogisticRegression\n",
    "from sklearn.neighbors import KNeighborsClassifier\n",
    "from sklearn.ensemble import GradientBoostingClassifier\n",
    "from sklearn.neural_network import MLPClassifier\n",
    "\n",
    "from sklearn.pipeline import Pipeline\n",
    "from sklearn.model_selection import GridSearchCV\n",
    "\n",
    "import graphviz\n",
    "from sklearn.tree import export_graphviz\n",
    "\n",
    "from sklearn_pandas import DataFrameMapper\n",
    "from sklearn.preprocessing import StandardScaler, OneHotEncoder\n",
    "from sklearn.experimental import enable_iterative_imputer\n",
    "from sklearn.impute import SimpleImputer, IterativeImputer\n",
    "\n",
    "import category_encoders as ce\n",
    "\n",
    "from src.creditapp.data.raw_data_access import get_application_record"
   ]
  },
  {
   "cell_type": "markdown",
   "metadata": {},
   "source": [
    "# Loading data"
   ]
  },
  {
   "cell_type": "code",
   "execution_count": 2,
   "metadata": {
    "ExecuteTime": {
     "end_time": "2020-05-21T20:05:06.049497Z",
     "start_time": "2020-05-21T20:05:02.539213Z"
    },
    "hide_input": true
   },
   "outputs": [
    {
     "name": "stdout",
     "output_type": "stream",
     "text": [
      "data loading was successfully...\n"
     ]
    }
   ],
   "source": [
    "df_clients = get_application_record()\n",
    "\n",
    "df_clients.drop(['id'], axis=1, inplace=True)\n",
    "\n",
    "print('data loading was successfully...')"
   ]
  },
  {
   "cell_type": "markdown",
   "metadata": {},
   "source": [
    "<img src=\"https://av.sc.com/in/content/images/in-credit-card-banner-1600x490px.jpg\" />\n",
    "\n",
    "# Experiments\n",
    "\n",
    "**Fecha de creación: 13/05/2020**\n",
    "\n",
    "**Autores: Santiago Porchietto, Agustín Trulli**\n",
    "\n",
    "El objetivo del presente cuaderno es la realización de multiples experimentos involucrando modelos de Machine Learning en función de determinar cual es el que mejor funciona para esta problemática en particular.\n",
    "\n",
    "Como se menciona en el análisis anterior, se busca predecir si una persona incurrirá en incumplimiento de sus deudas contraidas mediante tarjeta de crédito. Para esto creamos la columna target (y).\n",
    "\n",
    "Todas las features que quedaron en el dataset (menos el id) posterior al preprocessing serán utilizadas como entradas (X).\n",
    "\n",
    "<u>Metricas a utilizar</u>:\n",
    "\n",
    "* Precission: Para poder determinar que porcentaje de las veces que dijimos positivo acertamos la predicción. Por si sola es insuficiente (Encontramos 2 positivos que realmente lo son (100% de precission), en un dataset que posee 1000 positivos).\n",
    "\n",
    "* Recall: Para complementar precission, nos va a decir el porcentaje de positivos que encontramos por sobre los reales.\n",
    "\n",
    "* F1-Score: Como métrica que combina las anteriores.\n",
    "\n",
    "Con nuestro ejemplo en particular, precission es la métrica que más deberíamos mirar, ya que, en función de las políticas que tome el banco contra los deudores, tendríamos que estar bastante seguros de que una persona lo es antes de etiquetarla de ello.\n",
    "\n",
    "<u>Modelos a evaluar</u>:\n",
    "\n",
    "* Decission Tree \n",
    "\n",
    "* Random Forest\n",
    "\n",
    "* Logistic Regression\n",
    "\n",
    "* K Nearest Neighbors (KNN)\n",
    "\n",
    "* Gradient Boosted Trees\n",
    "\n",
    "* Neural Networks"
   ]
  },
  {
   "cell_type": "markdown",
   "metadata": {
    "hide_input": false
   },
   "source": [
    "## Feature Engineering "
   ]
  },
  {
   "cell_type": "markdown",
   "metadata": {
    "ExecuteTime": {
     "end_time": "2020-05-13T18:13:57.104422Z",
     "start_time": "2020-05-13T18:13:57.067004Z"
    }
   },
   "source": [
    "### Months employed\n",
    "Armado de los rangos de meses trabajados para \"agrupado de valores similares\" y reducción de variabilidad."
   ]
  },
  {
   "cell_type": "code",
   "execution_count": 3,
   "metadata": {
    "ExecuteTime": {
     "end_time": "2020-05-21T20:05:06.240987Z",
     "start_time": "2020-05-21T20:05:06.057476Z"
    },
    "hide_input": true
   },
   "outputs": [],
   "source": [
    "# parentesis no incluye el término\n",
    "# corchete incluye el término\n",
    "\n",
    "# Bajo la suposición de que estas personas nunca trabajaron o se encuentran este periodo de tiempo sin trabajar.\n",
    "# Se debería consultar con el \"cliente/banco\", pero tiene sentido.\n",
    "df_clients[\"months_employed\"].fillna(0, inplace = True)\n",
    "\n",
    "df_clients.loc[::, 'months_employed_range'] = pd.cut(df_clients.months_employed, \n",
    "                                                     list(range(0, 205, 6)), include_lowest='True')\n",
    "\n",
    "df_clients['months_employed_range'] = df_clients['months_employed_range'].astype(str)\n",
    "df_clients.loc[df_clients.months_employed_range == 'nan', 'months_employed_range'] = np.nan\n",
    "df_clients.loc[df_clients.months_employed_range == '(-0.001, 6.0]', 'months_employed_range'] = '[0.0, 6.0]'\n",
    "df_clients.loc[df_clients.months_employed >= 205, 'months_employed_range'] = '(204.0, 524.0]'"
   ]
  },
  {
   "cell_type": "markdown",
   "metadata": {},
   "source": [
    "### Income total\n",
    "Armado de los rangos de ingresos para \"agrupado de valores similares\" y reducción de variabilidad."
   ]
  },
  {
   "cell_type": "code",
   "execution_count": 4,
   "metadata": {
    "ExecuteTime": {
     "end_time": "2020-05-21T20:05:06.432479Z",
     "start_time": "2020-05-21T20:05:06.243977Z"
    },
    "hide_input": true
   },
   "outputs": [],
   "source": [
    "# parentesis no incluye el término\n",
    "# corchete incluye el término\n",
    "\n",
    "df_clients.loc[::, 'amt_income_range'] = pd.cut(df_clients.amt_income_total, \n",
    "                                               list(range(27000, 300001, 14325)), include_lowest='True')\n",
    "\n",
    "df_clients['amt_income_range'] = df_clients['amt_income_range'].astype(str)\n",
    "df_clients.loc[df_clients.amt_income_range == '(26999.999, 41325.0]', 'amt_income_range'] = '[27000.0, 41325.0]'\n",
    "df_clients.loc[df_clients.amt_income_total > 300000, 'amt_income_range'] = '(300000.0, 1575000.0]'"
   ]
  },
  {
   "cell_type": "markdown",
   "metadata": {},
   "source": [
    "## Utils"
   ]
  },
  {
   "cell_type": "code",
   "execution_count": 5,
   "metadata": {
    "ExecuteTime": {
     "end_time": "2020-05-21T20:05:06.446440Z",
     "start_time": "2020-05-21T20:05:06.435467Z"
    }
   },
   "outputs": [],
   "source": [
    "def evaluate_model(model, set_names=('train', 'test'), title=''):\n",
    "    if title:\n",
    "        display(title)\n",
    "    final_metrics = defaultdict(list)\n",
    "    \n",
    "    for i, set_name in enumerate(set_names):\n",
    "        assert set_name in ['train', 'test', 'validation']\n",
    "        set_data = globals()[set_name] \n",
    "\n",
    "        y = set_data.target\n",
    "        y_pred = model.predict(set_data)\n",
    "        final_metrics['Accuracy'].append(metrics.accuracy_score(y, y_pred))\n",
    "        final_metrics['Precision'].append(metrics.precision_score(y, y_pred))\n",
    "        final_metrics['Recall'].append(metrics.recall_score(y, y_pred))\n",
    "        final_metrics['F1'].append(metrics.f1_score(y, y_pred))\n",
    "\n",
    "    display(pd.DataFrame(final_metrics, index=set_names))"
   ]
  },
  {
   "cell_type": "markdown",
   "metadata": {
    "ExecuteTime": {
     "end_time": "2020-05-13T17:41:25.254740Z",
     "start_time": "2020-05-13T17:41:25.235791Z"
    }
   },
   "source": [
    "## Generating test, train & validation sets "
   ]
  },
  {
   "cell_type": "code",
   "execution_count": 6,
   "metadata": {
    "ExecuteTime": {
     "end_time": "2020-05-21T20:05:06.473368Z",
     "start_time": "2020-05-21T20:05:06.449430Z"
    },
    "hide_input": true
   },
   "outputs": [
    {
     "name": "stdout",
     "output_type": "stream",
     "text": [
      "data generating was successfully...\n"
     ]
    }
   ],
   "source": [
    "# Test, train & validation sets\n",
    "train, not_train = train_test_split(df_clients, test_size=0.3, random_state=1)\n",
    "validation, test = train_test_split(not_train, test_size=0.5, random_state=1)\n",
    "\n",
    "print('data generating was successfully...')"
   ]
  },
  {
   "cell_type": "markdown",
   "metadata": {
    "ExecuteTime": {
     "end_time": "2020-05-13T18:41:03.262493Z",
     "start_time": "2020-05-13T18:41:03.198660Z"
    }
   },
   "source": [
    "## Mapper"
   ]
  },
  {
   "cell_type": "code",
   "execution_count": 7,
   "metadata": {
    "ExecuteTime": {
     "end_time": "2020-05-21T20:05:06.488323Z",
     "start_time": "2020-05-21T20:05:06.476357Z"
    },
    "hide_input": true
   },
   "outputs": [],
   "source": [
    "mapper = DataFrameMapper([\n",
    "    (['code_gender'], [ce.OneHotEncoder()]),\n",
    "    (['flag_own_car'], [ce.OneHotEncoder()]),\n",
    "    (['flag_own_realty'], [ce.OneHotEncoder()]),\n",
    "    (['cnt_children'], [StandardScaler()]),\n",
    "    (['name_income_type'], [ce.WOEEncoder()]),\n",
    "    (['name_education_type'], [ce.WOEEncoder()]),\n",
    "    (['name_family_status'], [ce.WOEEncoder()]),\n",
    "    (['name_housing_type'], [ce.WOEEncoder()]),\n",
    "    (['months_employed_range'], [ce.WOEEncoder()]),\n",
    "    (['amt_income_range'], [ce.WOEEncoder()]),\n",
    "    (['occupation_type'], [ce.WOEEncoder()]),\n",
    "    (['cnt_fam_members'], [StandardScaler()]),\n",
    "    (['age'], [StandardScaler()]),\n",
    "    (['flag_mobil'], [ce.OneHotEncoder()]),\n",
    "    (['flag_work_phone'], [ce.OneHotEncoder()]),\n",
    "    (['flag_email'], [ce.OneHotEncoder()]),\n",
    "    (['flag_phone'], [ce.OneHotEncoder()])\n",
    "])"
   ]
  },
  {
   "cell_type": "markdown",
   "metadata": {},
   "source": [
    "<u> Los criterios para el armado del mapper fueron los siguientes</u>:\n",
    "\n",
    "* Se realizó el scaling de los meses trabajados debido a la alta mutabilidad de dicha feature, ajustándola a una distribución con media 0 y desvío estándar 1.\n",
    "\n",
    "* Para features binarias y categóricas de poca \"variabilidad\" tales como el género o si la persona posee auto utilizamos OneHotEncoder.\n",
    "\n",
    "* Para features categóticas con un rango de valores mayor tales como el tipo de ocupación o el tipo de vivienda, utilizamos Weight of Evidence Encoding (WOEE). Este método fue desarrollado principalmente para construir un modelo predictivo para evaluar el riesgo de incumplimiento de préstamos en la industria crediticia y financiera.\n",
    "\n",
    "Se basa en una medida de cuánto la evidencia apoya o socava una hipótesis. Se calcula en función de:\n",
    "\n",
    "<img src=https://4.bp.blogspot.com/-X1m0w40w0xg/V9V_7LS1AQI/AAAAAAAAFWc/f4bgPvE1In8Q13kGGBghp98MeWma8KgqACLcB/s1600/woe.png>\n",
    "\n",
    "<u>Donde</u>:\n",
    "\n",
    "* Distribution of Goods: Registros que cumplen con el target (pagaron, \"buenos clientes\").\n",
    "* Distribution of Bads: Registros que no cumplen con el target (no pagaron, \"malos clientes\").\n",
    "\n",
    "<u> Interpretación</u>:\n",
    "\n",
    "**WOE va a ser 0 si P(GOOD)/P(BAD) = 1 (iguales).**\n",
    "**WOE va a ser menor a 0 si P(GOOD) < P(BAD) (La razon de probabilidad entre ambas será menor a 1). Menos chances de cumplir.**\n",
    "**WOE va a ser mayor a 0 si P(GOOD) > P(BAD) (La razon de probabilidad entre ambas será mayor a 1). Mas chances de cumplir.**\n",
    "\n",
    "<u>Además</u>:\n",
    "\n",
    "<img src=\"https://miro.medium.com/max/600/1*9Gi0fGyTpxfwM2TpV4GZQQ.png\" width=\"300\" height=\"50\">\n",
    "\n",
    "\n",
    "\n",
    "<img src=https://miro.medium.com/max/578/1*5S_5aAHWe0_knDGZUK3W8w.png width=\"300\" height=\"200\">\n",
    "\n",
    "*see more: http://contrib.scikit-learn.org/category_encoders/woe.html*"
   ]
  },
  {
   "cell_type": "markdown",
   "metadata": {},
   "source": [
    "## Models"
   ]
  },
  {
   "cell_type": "markdown",
   "metadata": {
    "ExecuteTime": {
     "end_time": "2020-05-14T18:49:41.080304Z",
     "start_time": "2020-05-14T18:49:41.044385Z"
    }
   },
   "source": [
    "### Decission Tree"
   ]
  },
  {
   "cell_type": "code",
   "execution_count": 40,
   "metadata": {
    "ExecuteTime": {
     "end_time": "2020-05-21T20:30:23.907659Z",
     "start_time": "2020-05-21T20:30:23.901669Z"
    }
   },
   "outputs": [],
   "source": [
    "def get_tree_config():\n",
    "    params = {\n",
    "            'max_depth': [6, 7, 8, 9, 10, 11, 12],\n",
    "            'criterion': ['entropy', 'gini'],\n",
    "            'class_weight': [{0: 1, 1: 2}, 'balanced']\n",
    "        }\n",
    "    \n",
    "    model = DecisionTreeClassifier(random_state=1)\n",
    "    \n",
    "    return model, params"
   ]
  },
  {
   "cell_type": "code",
   "execution_count": 41,
   "metadata": {
    "ExecuteTime": {
     "end_time": "2020-05-21T20:30:28.882219Z",
     "start_time": "2020-05-21T20:30:24.520660Z"
    },
    "collapsed": true
   },
   "outputs": [
    {
     "name": "stdout",
     "output_type": "stream",
     "text": [
      "Fitting 5 folds for each of 28 candidates, totalling 140 fits\n"
     ]
    },
    {
     "name": "stderr",
     "output_type": "stream",
     "text": [
      "[Parallel(n_jobs=1)]: Using backend SequentialBackend with 1 concurrent workers.\n",
      "[Parallel(n_jobs=1)]: Done 140 out of 140 | elapsed:    3.4s finished\n"
     ]
    },
    {
     "data": {
      "text/plain": [
       "Pipeline(memory=None,\n",
       "         steps=[('mapper',\n",
       "                 DataFrameMapper(default=False, df_out=False,\n",
       "                                 features=[(['code_gender'],\n",
       "                                            [OneHotEncoder(cols=[0],\n",
       "                                                           drop_invariant=False,\n",
       "                                                           handle_missing='value',\n",
       "                                                           handle_unknown='value',\n",
       "                                                           return_df=True,\n",
       "                                                           use_cat_names=False,\n",
       "                                                           verbose=0)]),\n",
       "                                           (['flag_own_car'],\n",
       "                                            [OneHotEncoder(cols=[0],\n",
       "                                                           drop_invariant=False,\n",
       "                                                           handle_missing='value',\n",
       "                                                           handle_unknown='v...\n",
       "                                                               min_samples_leaf=1,\n",
       "                                                               min_samples_split=2,\n",
       "                                                               min_weight_fraction_leaf=0.0,\n",
       "                                                               presort='deprecated',\n",
       "                                                               random_state=1,\n",
       "                                                               splitter='best'),\n",
       "                              iid='deprecated', n_jobs=None,\n",
       "                              param_grid={'class_weight': [{0: 1, 1: 2},\n",
       "                                                           'balanced'],\n",
       "                                          'criterion': ['entropy', 'gini'],\n",
       "                                          'max_depth': [6, 7, 8, 9, 10, 11,\n",
       "                                                        12]},\n",
       "                              pre_dispatch='2*n_jobs', refit=True,\n",
       "                              return_train_score=False, scoring='f1',\n",
       "                              verbose=1))],\n",
       "         verbose=False)"
      ]
     },
     "execution_count": 41,
     "metadata": {},
     "output_type": "execute_result"
    }
   ],
   "source": [
    "model, parameters = get_tree_config()\n",
    "\n",
    "grid_search_tree = GridSearchCV(model, parameters, \n",
    "                                scoring='f1', verbose=1)\n",
    "\n",
    "pipe_tree = Pipeline([\n",
    "    ('mapper', mapper),\n",
    "    ('imputer', IterativeImputer(random_state=1)),\n",
    "    ('classifier', grid_search_tree),\n",
    "])\n",
    "\n",
    "pipe_tree.fit(train, train.target)"
   ]
  },
  {
   "cell_type": "code",
   "execution_count": 42,
   "metadata": {
    "ExecuteTime": {
     "end_time": "2020-05-21T20:30:28.892191Z",
     "start_time": "2020-05-21T20:30:28.885213Z"
    }
   },
   "outputs": [
    {
     "name": "stdout",
     "output_type": "stream",
     "text": [
      "Mejor score (f1):  0.1796879996979423\n",
      "Mejores parámetros:  {'class_weight': 'balanced', 'criterion': 'gini', 'max_depth': 6}\n"
     ]
    }
   ],
   "source": [
    "print('Mejor score (f1): ', grid_search_tree.best_score_)\n",
    "print('Mejores parámetros: ', grid_search_tree.best_params_)"
   ]
  },
  {
   "cell_type": "code",
   "execution_count": 43,
   "metadata": {
    "ExecuteTime": {
     "end_time": "2020-05-21T20:30:35.210040Z",
     "start_time": "2020-05-21T20:30:34.975667Z"
    }
   },
   "outputs": [
    {
     "data": {
      "text/plain": [
       "'Decision Tree'"
      ]
     },
     "metadata": {},
     "output_type": "display_data"
    },
    {
     "data": {
      "text/html": [
       "<div>\n",
       "<style scoped>\n",
       "    .dataframe tbody tr th:only-of-type {\n",
       "        vertical-align: middle;\n",
       "    }\n",
       "\n",
       "    .dataframe tbody tr th {\n",
       "        vertical-align: top;\n",
       "    }\n",
       "\n",
       "    .dataframe thead th {\n",
       "        text-align: right;\n",
       "    }\n",
       "</style>\n",
       "<table border=\"1\" class=\"dataframe\">\n",
       "  <thead>\n",
       "    <tr style=\"text-align: right;\">\n",
       "      <th></th>\n",
       "      <th>Accuracy</th>\n",
       "      <th>Precision</th>\n",
       "      <th>Recall</th>\n",
       "      <th>F1</th>\n",
       "    </tr>\n",
       "  </thead>\n",
       "  <tbody>\n",
       "    <tr>\n",
       "      <th>train</th>\n",
       "      <td>0.443941</td>\n",
       "      <td>0.112101</td>\n",
       "      <td>0.831193</td>\n",
       "      <td>0.197558</td>\n",
       "    </tr>\n",
       "    <tr>\n",
       "      <th>test</th>\n",
       "      <td>0.439746</td>\n",
       "      <td>0.106729</td>\n",
       "      <td>0.786325</td>\n",
       "      <td>0.187947</td>\n",
       "    </tr>\n",
       "  </tbody>\n",
       "</table>\n",
       "</div>"
      ],
      "text/plain": [
       "       Accuracy  Precision    Recall        F1\n",
       "train  0.443941   0.112101  0.831193  0.197558\n",
       "test   0.439746   0.106729  0.786325  0.187947"
      ]
     },
     "metadata": {},
     "output_type": "display_data"
    }
   ],
   "source": [
    "evaluate_model(pipe_tree, title='Decision Tree')"
   ]
  },
  {
   "cell_type": "code",
   "execution_count": 49,
   "metadata": {
    "ExecuteTime": {
     "end_time": "2020-05-21T20:35:29.188281Z",
     "start_time": "2020-05-21T20:35:29.182291Z"
    }
   },
   "outputs": [],
   "source": [
    "def graph_tree(tree, col_names):\n",
    "    graph_data = export_graphviz(\n",
    "        tree, \n",
    "        out_file=None, \n",
    "        feature_names=col_names,  \n",
    "        class_names=['deudor', 'no deudor'],  \n",
    "        filled=True, \n",
    "        rounded=True,  \n",
    "        special_characters=True,\n",
    "        max_depth=3,\n",
    "    )\n",
    "    graph = graphviz.Source(graph_data)  \n",
    "    return graph"
   ]
  },
  {
   "cell_type": "code",
   "execution_count": 50,
   "metadata": {
    "ExecuteTime": {
     "end_time": "2020-05-21T20:35:29.777893Z",
     "start_time": "2020-05-21T20:35:29.648680Z"
    },
    "scrolled": false
   },
   "outputs": [
    {
     "data": {
      "image/svg+xml": [
       "<?xml version=\"1.0\" encoding=\"UTF-8\" standalone=\"no\"?>\r\n",
       "<!DOCTYPE svg PUBLIC \"-//W3C//DTD SVG 1.1//EN\"\r\n",
       " \"http://www.w3.org/Graphics/SVG/1.1/DTD/svg11.dtd\">\r\n",
       "<!-- Generated by graphviz version 2.38.0 (20140413.2041)\r\n",
       " -->\r\n",
       "<!-- Title: Tree Pages: 1 -->\r\n",
       "<svg width=\"1433pt\" height=\"520pt\"\r\n",
       " viewBox=\"0.00 0.00 1432.50 520.00\" xmlns=\"http://www.w3.org/2000/svg\" xmlns:xlink=\"http://www.w3.org/1999/xlink\">\r\n",
       "<g id=\"graph0\" class=\"graph\" transform=\"scale(1 1) rotate(0) translate(4 516)\">\r\n",
       "<title>Tree</title>\r\n",
       "<polygon fill=\"white\" stroke=\"none\" points=\"-4,4 -4,-516 1428.5,-516 1428.5,4 -4,4\"/>\r\n",
       "<!-- 0 -->\r\n",
       "<g id=\"node1\" class=\"node\"><title>0</title>\r\n",
       "<path fill=\"#ffffff\" stroke=\"black\" d=\"M841.5,-512C841.5,-512 667.5,-512 667.5,-512 661.5,-512 655.5,-506 655.5,-500 655.5,-500 655.5,-441 655.5,-441 655.5,-435 661.5,-429 667.5,-429 667.5,-429 841.5,-429 841.5,-429 847.5,-429 853.5,-435 853.5,-441 853.5,-441 853.5,-500 853.5,-500 853.5,-506 847.5,-512 841.5,-512\"/>\r\n",
       "<text text-anchor=\"start\" x=\"663.5\" y=\"-496.8\" font-family=\"Helvetica,sans-Serif\" font-size=\"14.00\">name_income_type ≤ &#45;0.125</text>\r\n",
       "<text text-anchor=\"start\" x=\"725.5\" y=\"-481.8\" font-family=\"Helvetica,sans-Serif\" font-size=\"14.00\">gini = 0.5</text>\r\n",
       "<text text-anchor=\"start\" x=\"703\" y=\"-466.8\" font-family=\"Helvetica,sans-Serif\" font-size=\"14.00\">samples = 6618</text>\r\n",
       "<text text-anchor=\"start\" x=\"677.5\" y=\"-451.8\" font-family=\"Helvetica,sans-Serif\" font-size=\"14.00\">value = [3309.0, 3309.0]</text>\r\n",
       "<text text-anchor=\"start\" x=\"697.5\" y=\"-436.8\" font-family=\"Helvetica,sans-Serif\" font-size=\"14.00\">class = no deudor</text>\r\n",
       "</g>\r\n",
       "<!-- 1 -->\r\n",
       "<g id=\"node2\" class=\"node\"><title>1</title>\r\n",
       "<path fill=\"#e0effb\" stroke=\"black\" d=\"M687,-393C687,-393 508,-393 508,-393 502,-393 496,-387 496,-381 496,-381 496,-322 496,-322 496,-316 502,-310 508,-310 508,-310 687,-310 687,-310 693,-310 699,-316 699,-322 699,-322 699,-381 699,-381 699,-387 693,-393 687,-393\"/>\r\n",
       "<text text-anchor=\"start\" x=\"557\" y=\"-377.8\" font-family=\"Helvetica,sans-Serif\" font-size=\"14.00\">age ≤ &#45;1.784</text>\r\n",
       "<text text-anchor=\"start\" x=\"560\" y=\"-362.8\" font-family=\"Helvetica,sans-Serif\" font-size=\"14.00\">gini = 0.496</text>\r\n",
       "<text text-anchor=\"start\" x=\"546\" y=\"-347.8\" font-family=\"Helvetica,sans-Serif\" font-size=\"14.00\">samples = 5593</text>\r\n",
       "<text text-anchor=\"start\" x=\"504\" y=\"-332.8\" font-family=\"Helvetica,sans-Serif\" font-size=\"14.00\">value = [2753.777, 3272.571]</text>\r\n",
       "<text text-anchor=\"start\" x=\"540.5\" y=\"-317.8\" font-family=\"Helvetica,sans-Serif\" font-size=\"14.00\">class = no deudor</text>\r\n",
       "</g>\r\n",
       "<!-- 0&#45;&gt;1 -->\r\n",
       "<g id=\"edge1\" class=\"edge\"><title>0&#45;&gt;1</title>\r\n",
       "<path fill=\"none\" stroke=\"black\" d=\"M700.03,-428.907C687.121,-419.288 673.254,-408.953 660.019,-399.09\"/>\r\n",
       "<polygon fill=\"black\" stroke=\"black\" points=\"661.984,-396.19 651.874,-393.021 657.801,-401.803 661.984,-396.19\"/>\r\n",
       "<text text-anchor=\"middle\" x=\"655.485\" y=\"-414.059\" font-family=\"Helvetica,sans-Serif\" font-size=\"14.00\">True</text>\r\n",
       "</g>\r\n",
       "<!-- 34 -->\r\n",
       "<g id=\"node15\" class=\"node\"><title>34</title>\r\n",
       "<path fill=\"#e78946\" stroke=\"black\" d=\"M1015.5,-393C1015.5,-393 809.5,-393 809.5,-393 803.5,-393 797.5,-387 797.5,-381 797.5,-381 797.5,-322 797.5,-322 797.5,-316 803.5,-310 809.5,-310 809.5,-310 1015.5,-310 1015.5,-310 1021.5,-310 1027.5,-316 1027.5,-322 1027.5,-322 1027.5,-381 1027.5,-381 1027.5,-387 1021.5,-393 1015.5,-393\"/>\r\n",
       "<text text-anchor=\"start\" x=\"805.5\" y=\"-377.8\" font-family=\"Helvetica,sans-Serif\" font-size=\"14.00\">months_employed_range ≤ 0.052</text>\r\n",
       "<text text-anchor=\"start\" x=\"875\" y=\"-362.8\" font-family=\"Helvetica,sans-Serif\" font-size=\"14.00\">gini = 0.116</text>\r\n",
       "<text text-anchor=\"start\" x=\"861\" y=\"-347.8\" font-family=\"Helvetica,sans-Serif\" font-size=\"14.00\">samples = 1025</text>\r\n",
       "<text text-anchor=\"start\" x=\"831\" y=\"-332.8\" font-family=\"Helvetica,sans-Serif\" font-size=\"14.00\">value = [555.223, 36.429]</text>\r\n",
       "<text text-anchor=\"start\" x=\"865.5\" y=\"-317.8\" font-family=\"Helvetica,sans-Serif\" font-size=\"14.00\">class = deudor</text>\r\n",
       "</g>\r\n",
       "<!-- 0&#45;&gt;34 -->\r\n",
       "<g id=\"edge14\" class=\"edge\"><title>0&#45;&gt;34</title>\r\n",
       "<path fill=\"none\" stroke=\"black\" d=\"M809.317,-428.907C822.308,-419.288 836.264,-408.953 849.583,-399.09\"/>\r\n",
       "<polygon fill=\"black\" stroke=\"black\" points=\"851.826,-401.785 857.78,-393.021 847.66,-396.159 851.826,-401.785\"/>\r\n",
       "<text text-anchor=\"middle\" x=\"854.093\" y=\"-414.048\" font-family=\"Helvetica,sans-Serif\" font-size=\"14.00\">False</text>\r\n",
       "</g>\r\n",
       "<!-- 2 -->\r\n",
       "<g id=\"node3\" class=\"node\"><title>2</title>\r\n",
       "<path fill=\"#5baee9\" stroke=\"black\" d=\"M326,-274C326,-274 155,-274 155,-274 149,-274 143,-268 143,-262 143,-262 143,-203 143,-203 143,-197 149,-191 155,-191 155,-191 326,-191 326,-191 332,-191 338,-197 338,-203 338,-203 338,-262 338,-262 338,-268 332,-274 326,-274\"/>\r\n",
       "<text text-anchor=\"start\" x=\"151\" y=\"-258.8\" font-family=\"Helvetica,sans-Serif\" font-size=\"14.00\">amt_income_range ≤ &#45;0.297</text>\r\n",
       "<text text-anchor=\"start\" x=\"203\" y=\"-243.8\" font-family=\"Helvetica,sans-Serif\" font-size=\"14.00\">gini = 0.252</text>\r\n",
       "<text text-anchor=\"start\" x=\"197\" y=\"-228.8\" font-family=\"Helvetica,sans-Serif\" font-size=\"14.00\">samples = 41</text>\r\n",
       "<text text-anchor=\"start\" x=\"163.5\" y=\"-213.8\" font-family=\"Helvetica,sans-Serif\" font-size=\"14.00\">value = [14.712, 85.002]</text>\r\n",
       "<text text-anchor=\"start\" x=\"183.5\" y=\"-198.8\" font-family=\"Helvetica,sans-Serif\" font-size=\"14.00\">class = no deudor</text>\r\n",
       "</g>\r\n",
       "<!-- 1&#45;&gt;2 -->\r\n",
       "<g id=\"edge2\" class=\"edge\"><title>1&#45;&gt;2</title>\r\n",
       "<path fill=\"none\" stroke=\"black\" d=\"M495.676,-317.129C449.402,-301.964 394.639,-284.016 347.733,-268.643\"/>\r\n",
       "<polygon fill=\"black\" stroke=\"black\" points=\"348.748,-265.293 338.155,-265.505 346.568,-271.945 348.748,-265.293\"/>\r\n",
       "</g>\r\n",
       "<!-- 11 -->\r\n",
       "<g id=\"node8\" class=\"node\"><title>11</title>\r\n",
       "<path fill=\"#e3f1fb\" stroke=\"black\" d=\"M700.5,-274C700.5,-274 494.5,-274 494.5,-274 488.5,-274 482.5,-268 482.5,-262 482.5,-262 482.5,-203 482.5,-203 482.5,-197 488.5,-191 494.5,-191 494.5,-191 700.5,-191 700.5,-191 706.5,-191 712.5,-197 712.5,-203 712.5,-203 712.5,-262 712.5,-262 712.5,-268 706.5,-274 700.5,-274\"/>\r\n",
       "<text text-anchor=\"start\" x=\"490.5\" y=\"-258.8\" font-family=\"Helvetica,sans-Serif\" font-size=\"14.00\">months_employed_range ≤ 0.277</text>\r\n",
       "<text text-anchor=\"start\" x=\"560\" y=\"-243.8\" font-family=\"Helvetica,sans-Serif\" font-size=\"14.00\">gini = 0.497</text>\r\n",
       "<text text-anchor=\"start\" x=\"546\" y=\"-228.8\" font-family=\"Helvetica,sans-Serif\" font-size=\"14.00\">samples = 5552</text>\r\n",
       "<text text-anchor=\"start\" x=\"504\" y=\"-213.8\" font-family=\"Helvetica,sans-Serif\" font-size=\"14.00\">value = [2739.065, 3187.569]</text>\r\n",
       "<text text-anchor=\"start\" x=\"540.5\" y=\"-198.8\" font-family=\"Helvetica,sans-Serif\" font-size=\"14.00\">class = no deudor</text>\r\n",
       "</g>\r\n",
       "<!-- 1&#45;&gt;11 -->\r\n",
       "<g id=\"edge7\" class=\"edge\"><title>1&#45;&gt;11</title>\r\n",
       "<path fill=\"none\" stroke=\"black\" d=\"M597.5,-309.907C597.5,-301.649 597.5,-292.864 597.5,-284.302\"/>\r\n",
       "<polygon fill=\"black\" stroke=\"black\" points=\"601,-284.021 597.5,-274.021 594,-284.021 601,-284.021\"/>\r\n",
       "</g>\r\n",
       "<!-- 3 -->\r\n",
       "<g id=\"node4\" class=\"node\"><title>3</title>\r\n",
       "<path fill=\"#e58139\" stroke=\"black\" d=\"M125,-147.5C125,-147.5 12,-147.5 12,-147.5 6,-147.5 0,-141.5 0,-135.5 0,-135.5 0,-91.5 0,-91.5 0,-85.5 6,-79.5 12,-79.5 12,-79.5 125,-79.5 125,-79.5 131,-79.5 137,-85.5 137,-91.5 137,-91.5 137,-135.5 137,-135.5 137,-141.5 131,-147.5 125,-147.5\"/>\r\n",
       "<text text-anchor=\"start\" x=\"39.5\" y=\"-132.3\" font-family=\"Helvetica,sans-Serif\" font-size=\"14.00\">gini = 0.0</text>\r\n",
       "<text text-anchor=\"start\" x=\"29\" y=\"-117.3\" font-family=\"Helvetica,sans-Serif\" font-size=\"14.00\">samples = 7</text>\r\n",
       "<text text-anchor=\"start\" x=\"8\" y=\"-102.3\" font-family=\"Helvetica,sans-Serif\" font-size=\"14.00\">value = [3.814, 0.0]</text>\r\n",
       "<text text-anchor=\"start\" x=\"21.5\" y=\"-87.3\" font-family=\"Helvetica,sans-Serif\" font-size=\"14.00\">class = deudor</text>\r\n",
       "</g>\r\n",
       "<!-- 2&#45;&gt;3 -->\r\n",
       "<g id=\"edge3\" class=\"edge\"><title>2&#45;&gt;3</title>\r\n",
       "<path fill=\"none\" stroke=\"black\" d=\"M180.825,-190.907C162.982,-178.769 143.464,-165.493 125.778,-153.462\"/>\r\n",
       "<polygon fill=\"black\" stroke=\"black\" points=\"127.495,-150.397 117.258,-147.667 123.558,-156.185 127.495,-150.397\"/>\r\n",
       "</g>\r\n",
       "<!-- 4 -->\r\n",
       "<g id=\"node5\" class=\"node\"><title>4</title>\r\n",
       "<path fill=\"#52aae8\" stroke=\"black\" d=\"M313.5,-155C313.5,-155 167.5,-155 167.5,-155 161.5,-155 155.5,-149 155.5,-143 155.5,-143 155.5,-84 155.5,-84 155.5,-78 161.5,-72 167.5,-72 167.5,-72 313.5,-72 313.5,-72 319.5,-72 325.5,-78 325.5,-84 325.5,-84 325.5,-143 325.5,-143 325.5,-149 319.5,-155 313.5,-155\"/>\r\n",
       "<text text-anchor=\"start\" x=\"187\" y=\"-139.8\" font-family=\"Helvetica,sans-Serif\" font-size=\"14.00\">flag_phone ≤ 0.5</text>\r\n",
       "<text text-anchor=\"start\" x=\"203\" y=\"-124.8\" font-family=\"Helvetica,sans-Serif\" font-size=\"14.00\">gini = 0.201</text>\r\n",
       "<text text-anchor=\"start\" x=\"197\" y=\"-109.8\" font-family=\"Helvetica,sans-Serif\" font-size=\"14.00\">samples = 34</text>\r\n",
       "<text text-anchor=\"start\" x=\"163.5\" y=\"-94.8\" font-family=\"Helvetica,sans-Serif\" font-size=\"14.00\">value = [10.897, 85.002]</text>\r\n",
       "<text text-anchor=\"start\" x=\"183.5\" y=\"-79.8\" font-family=\"Helvetica,sans-Serif\" font-size=\"14.00\">class = no deudor</text>\r\n",
       "</g>\r\n",
       "<!-- 2&#45;&gt;4 -->\r\n",
       "<g id=\"edge4\" class=\"edge\"><title>2&#45;&gt;4</title>\r\n",
       "<path fill=\"none\" stroke=\"black\" d=\"M240.5,-190.907C240.5,-182.649 240.5,-173.864 240.5,-165.302\"/>\r\n",
       "<polygon fill=\"black\" stroke=\"black\" points=\"244,-165.021 240.5,-155.021 237,-165.021 244,-165.021\"/>\r\n",
       "</g>\r\n",
       "<!-- 5 -->\r\n",
       "<g id=\"node6\" class=\"node\"><title>5</title>\r\n",
       "<path fill=\"#c0c0c0\" stroke=\"black\" d=\"M234.5,-36C234.5,-36 204.5,-36 204.5,-36 198.5,-36 192.5,-30 192.5,-24 192.5,-24 192.5,-12 192.5,-12 192.5,-6 198.5,-0 204.5,-0 204.5,-0 234.5,-0 234.5,-0 240.5,-0 246.5,-6 246.5,-12 246.5,-12 246.5,-24 246.5,-24 246.5,-30 240.5,-36 234.5,-36\"/>\r\n",
       "<text text-anchor=\"middle\" x=\"219.5\" y=\"-14.3\" font-family=\"Helvetica,sans-Serif\" font-size=\"14.00\">(...)</text>\r\n",
       "</g>\r\n",
       "<!-- 4&#45;&gt;5 -->\r\n",
       "<g id=\"edge5\" class=\"edge\"><title>4&#45;&gt;5</title>\r\n",
       "<path fill=\"none\" stroke=\"black\" d=\"M231.35,-71.7615C229.414,-63.1387 227.415,-54.2385 225.623,-46.2606\"/>\r\n",
       "<polygon fill=\"black\" stroke=\"black\" points=\"229.016,-45.395 223.409,-36.4051 222.186,-46.9291 229.016,-45.395\"/>\r\n",
       "</g>\r\n",
       "<!-- 10 -->\r\n",
       "<g id=\"node7\" class=\"node\"><title>10</title>\r\n",
       "<path fill=\"#c0c0c0\" stroke=\"black\" d=\"M306.5,-36C306.5,-36 276.5,-36 276.5,-36 270.5,-36 264.5,-30 264.5,-24 264.5,-24 264.5,-12 264.5,-12 264.5,-6 270.5,-0 276.5,-0 276.5,-0 306.5,-0 306.5,-0 312.5,-0 318.5,-6 318.5,-12 318.5,-12 318.5,-24 318.5,-24 318.5,-30 312.5,-36 306.5,-36\"/>\r\n",
       "<text text-anchor=\"middle\" x=\"291.5\" y=\"-14.3\" font-family=\"Helvetica,sans-Serif\" font-size=\"14.00\">(...)</text>\r\n",
       "</g>\r\n",
       "<!-- 4&#45;&gt;10 -->\r\n",
       "<g id=\"edge6\" class=\"edge\"><title>4&#45;&gt;10</title>\r\n",
       "<path fill=\"none\" stroke=\"black\" d=\"M262.721,-71.7615C267.636,-62.7512 272.716,-53.4379 277.214,-45.1906\"/>\r\n",
       "<polygon fill=\"black\" stroke=\"black\" points=\"280.29,-46.8601 282.006,-36.4051 274.145,-43.5081 280.29,-46.8601\"/>\r\n",
       "</g>\r\n",
       "<!-- 12 -->\r\n",
       "<g id=\"node9\" class=\"node\"><title>12</title>\r\n",
       "<path fill=\"#d7ebfa\" stroke=\"black\" d=\"M535,-155C535,-155 356,-155 356,-155 350,-155 344,-149 344,-143 344,-143 344,-84 344,-84 344,-78 350,-72 356,-72 356,-72 535,-72 535,-72 541,-72 547,-78 547,-84 547,-84 547,-143 547,-143 547,-149 541,-155 535,-155\"/>\r\n",
       "<text text-anchor=\"start\" x=\"355\" y=\"-139.8\" font-family=\"Helvetica,sans-Serif\" font-size=\"14.00\">name_education_type ≤ &#45;0.3</text>\r\n",
       "<text text-anchor=\"start\" x=\"408\" y=\"-124.8\" font-family=\"Helvetica,sans-Serif\" font-size=\"14.00\">gini = 0.494</text>\r\n",
       "<text text-anchor=\"start\" x=\"394\" y=\"-109.8\" font-family=\"Helvetica,sans-Serif\" font-size=\"14.00\">samples = 4226</text>\r\n",
       "<text text-anchor=\"start\" x=\"352\" y=\"-94.8\" font-family=\"Helvetica,sans-Serif\" font-size=\"14.00\">value = [2069.419, 2598.628]</text>\r\n",
       "<text text-anchor=\"start\" x=\"388.5\" y=\"-79.8\" font-family=\"Helvetica,sans-Serif\" font-size=\"14.00\">class = no deudor</text>\r\n",
       "</g>\r\n",
       "<!-- 11&#45;&gt;12 -->\r\n",
       "<g id=\"edge8\" class=\"edge\"><title>11&#45;&gt;12</title>\r\n",
       "<path fill=\"none\" stroke=\"black\" d=\"M544.764,-190.907C532.385,-181.379 519.094,-171.148 506.39,-161.37\"/>\r\n",
       "<polygon fill=\"black\" stroke=\"black\" points=\"508.202,-158.347 498.142,-155.021 503.932,-163.894 508.202,-158.347\"/>\r\n",
       "</g>\r\n",
       "<!-- 21 -->\r\n",
       "<g id=\"node12\" class=\"node\"><title>21</title>\r\n",
       "<path fill=\"#fcf0e7\" stroke=\"black\" d=\"M740,-155C740,-155 577,-155 577,-155 571,-155 565,-149 565,-143 565,-143 565,-84 565,-84 565,-78 571,-72 577,-72 577,-72 740,-72 740,-72 746,-72 752,-78 752,-84 752,-84 752,-143 752,-143 752,-149 746,-155 740,-155\"/>\r\n",
       "<text text-anchor=\"start\" x=\"618\" y=\"-139.8\" font-family=\"Helvetica,sans-Serif\" font-size=\"14.00\">age ≤ &#45;1.435</text>\r\n",
       "<text text-anchor=\"start\" x=\"621\" y=\"-124.8\" font-family=\"Helvetica,sans-Serif\" font-size=\"14.00\">gini = 0.498</text>\r\n",
       "<text text-anchor=\"start\" x=\"607\" y=\"-109.8\" font-family=\"Helvetica,sans-Serif\" font-size=\"14.00\">samples = 1326</text>\r\n",
       "<text text-anchor=\"start\" x=\"573\" y=\"-94.8\" font-family=\"Helvetica,sans-Serif\" font-size=\"14.00\">value = [669.646, 588.941]</text>\r\n",
       "<text text-anchor=\"start\" x=\"611.5\" y=\"-79.8\" font-family=\"Helvetica,sans-Serif\" font-size=\"14.00\">class = deudor</text>\r\n",
       "</g>\r\n",
       "<!-- 11&#45;&gt;21 -->\r\n",
       "<g id=\"edge11\" class=\"edge\"><title>11&#45;&gt;21</title>\r\n",
       "<path fill=\"none\" stroke=\"black\" d=\"M618.664,-190.907C623.206,-182.195 628.054,-172.897 632.748,-163.893\"/>\r\n",
       "<polygon fill=\"black\" stroke=\"black\" points=\"635.854,-165.506 637.374,-155.021 629.647,-162.27 635.854,-165.506\"/>\r\n",
       "</g>\r\n",
       "<!-- 13 -->\r\n",
       "<g id=\"node10\" class=\"node\"><title>13</title>\r\n",
       "<path fill=\"#c0c0c0\" stroke=\"black\" d=\"M408.5,-36C408.5,-36 378.5,-36 378.5,-36 372.5,-36 366.5,-30 366.5,-24 366.5,-24 366.5,-12 366.5,-12 366.5,-6 372.5,-0 378.5,-0 378.5,-0 408.5,-0 408.5,-0 414.5,-0 420.5,-6 420.5,-12 420.5,-12 420.5,-24 420.5,-24 420.5,-30 414.5,-36 408.5,-36\"/>\r\n",
       "<text text-anchor=\"middle\" x=\"393.5\" y=\"-14.3\" font-family=\"Helvetica,sans-Serif\" font-size=\"14.00\">(...)</text>\r\n",
       "</g>\r\n",
       "<!-- 12&#45;&gt;13 -->\r\n",
       "<g id=\"edge9\" class=\"edge\"><title>12&#45;&gt;13</title>\r\n",
       "<path fill=\"none\" stroke=\"black\" d=\"M422.843,-71.7615C417.832,-62.7512 412.653,-53.4379 408.066,-45.1906\"/>\r\n",
       "<polygon fill=\"black\" stroke=\"black\" points=\"411.099,-43.4433 403.18,-36.4051 404.982,-46.8456 411.099,-43.4433\"/>\r\n",
       "</g>\r\n",
       "<!-- 14 -->\r\n",
       "<g id=\"node11\" class=\"node\"><title>14</title>\r\n",
       "<path fill=\"#c0c0c0\" stroke=\"black\" d=\"M480.5,-36C480.5,-36 450.5,-36 450.5,-36 444.5,-36 438.5,-30 438.5,-24 438.5,-24 438.5,-12 438.5,-12 438.5,-6 444.5,-0 450.5,-0 450.5,-0 480.5,-0 480.5,-0 486.5,-0 492.5,-6 492.5,-12 492.5,-12 492.5,-24 492.5,-24 492.5,-30 486.5,-36 480.5,-36\"/>\r\n",
       "<text text-anchor=\"middle\" x=\"465.5\" y=\"-14.3\" font-family=\"Helvetica,sans-Serif\" font-size=\"14.00\">(...)</text>\r\n",
       "</g>\r\n",
       "<!-- 12&#45;&gt;14 -->\r\n",
       "<g id=\"edge10\" class=\"edge\"><title>12&#45;&gt;14</title>\r\n",
       "<path fill=\"none\" stroke=\"black\" d=\"M454.214,-71.7615C456.059,-63.1387 457.962,-54.2385 459.669,-46.2606\"/>\r\n",
       "<polygon fill=\"black\" stroke=\"black\" points=\"463.108,-46.916 461.777,-36.4051 456.263,-45.4518 463.108,-46.916\"/>\r\n",
       "</g>\r\n",
       "<!-- 22 -->\r\n",
       "<g id=\"node13\" class=\"node\"><title>22</title>\r\n",
       "<path fill=\"#c0c0c0\" stroke=\"black\" d=\"M637.5,-36C637.5,-36 607.5,-36 607.5,-36 601.5,-36 595.5,-30 595.5,-24 595.5,-24 595.5,-12 595.5,-12 595.5,-6 601.5,-0 607.5,-0 607.5,-0 637.5,-0 637.5,-0 643.5,-0 649.5,-6 649.5,-12 649.5,-12 649.5,-24 649.5,-24 649.5,-30 643.5,-36 637.5,-36\"/>\r\n",
       "<text text-anchor=\"middle\" x=\"622.5\" y=\"-14.3\" font-family=\"Helvetica,sans-Serif\" font-size=\"14.00\">(...)</text>\r\n",
       "</g>\r\n",
       "<!-- 21&#45;&gt;22 -->\r\n",
       "<g id=\"edge12\" class=\"edge\"><title>21&#45;&gt;22</title>\r\n",
       "<path fill=\"none\" stroke=\"black\" d=\"M642.815,-71.7615C639.457,-63.0419 635.991,-54.0385 632.893,-45.9921\"/>\r\n",
       "<polygon fill=\"black\" stroke=\"black\" points=\"636.061,-44.4797 629.201,-36.4051 629.528,-46.9949 636.061,-44.4797\"/>\r\n",
       "</g>\r\n",
       "<!-- 27 -->\r\n",
       "<g id=\"node14\" class=\"node\"><title>27</title>\r\n",
       "<path fill=\"#c0c0c0\" stroke=\"black\" d=\"M709.5,-36C709.5,-36 679.5,-36 679.5,-36 673.5,-36 667.5,-30 667.5,-24 667.5,-24 667.5,-12 667.5,-12 667.5,-6 673.5,-0 679.5,-0 679.5,-0 709.5,-0 709.5,-0 715.5,-0 721.5,-6 721.5,-12 721.5,-12 721.5,-24 721.5,-24 721.5,-30 715.5,-36 709.5,-36\"/>\r\n",
       "<text text-anchor=\"middle\" x=\"694.5\" y=\"-14.3\" font-family=\"Helvetica,sans-Serif\" font-size=\"14.00\">(...)</text>\r\n",
       "</g>\r\n",
       "<!-- 21&#45;&gt;27 -->\r\n",
       "<g id=\"edge13\" class=\"edge\"><title>21&#45;&gt;27</title>\r\n",
       "<path fill=\"none\" stroke=\"black\" d=\"M674.185,-71.7615C677.543,-63.0419 681.009,-54.0385 684.107,-45.9921\"/>\r\n",
       "<polygon fill=\"black\" stroke=\"black\" points=\"687.472,-46.9949 687.799,-36.4051 680.939,-44.4797 687.472,-46.9949\"/>\r\n",
       "</g>\r\n",
       "<!-- 35 -->\r\n",
       "<g id=\"node16\" class=\"node\"><title>35</title>\r\n",
       "<path fill=\"#e6843d\" stroke=\"black\" d=\"M1018,-274C1018,-274 807,-274 807,-274 801,-274 795,-268 795,-262 795,-262 795,-203 795,-203 795,-197 801,-191 807,-191 807,-191 1018,-191 1018,-191 1024,-191 1030,-197 1030,-203 1030,-203 1030,-262 1030,-262 1030,-268 1024,-274 1018,-274\"/>\r\n",
       "<text text-anchor=\"start\" x=\"803\" y=\"-258.8\" font-family=\"Helvetica,sans-Serif\" font-size=\"14.00\">months_employed_range ≤ &#45;0.043</text>\r\n",
       "<text text-anchor=\"start\" x=\"875\" y=\"-243.8\" font-family=\"Helvetica,sans-Serif\" font-size=\"14.00\">gini = 0.042</text>\r\n",
       "<text text-anchor=\"start\" x=\"861\" y=\"-228.8\" font-family=\"Helvetica,sans-Serif\" font-size=\"14.00\">samples = 1017</text>\r\n",
       "<text text-anchor=\"start\" x=\"831\" y=\"-213.8\" font-family=\"Helvetica,sans-Serif\" font-size=\"14.00\">value = [553.044, 12.143]</text>\r\n",
       "<text text-anchor=\"start\" x=\"865.5\" y=\"-198.8\" font-family=\"Helvetica,sans-Serif\" font-size=\"14.00\">class = deudor</text>\r\n",
       "</g>\r\n",
       "<!-- 34&#45;&gt;35 -->\r\n",
       "<g id=\"edge15\" class=\"edge\"><title>34&#45;&gt;35</title>\r\n",
       "<path fill=\"none\" stroke=\"black\" d=\"M912.5,-309.907C912.5,-301.649 912.5,-292.864 912.5,-284.302\"/>\r\n",
       "<polygon fill=\"black\" stroke=\"black\" points=\"916,-284.021 912.5,-274.021 909,-284.021 916,-284.021\"/>\r\n",
       "</g>\r\n",
       "<!-- 40 -->\r\n",
       "<g id=\"node21\" class=\"node\"><title>40</title>\r\n",
       "<path fill=\"#4ba6e7\" stroke=\"black\" d=\"M1260.5,-274C1260.5,-274 1122.5,-274 1122.5,-274 1116.5,-274 1110.5,-268 1110.5,-262 1110.5,-262 1110.5,-203 1110.5,-203 1110.5,-197 1116.5,-191 1122.5,-191 1122.5,-191 1260.5,-191 1260.5,-191 1266.5,-191 1272.5,-197 1272.5,-203 1272.5,-203 1272.5,-262 1272.5,-262 1272.5,-268 1266.5,-274 1260.5,-274\"/>\r\n",
       "<text text-anchor=\"start\" x=\"1151\" y=\"-258.8\" font-family=\"Helvetica,sans-Serif\" font-size=\"14.00\">age ≤ &#45;0.124</text>\r\n",
       "<text text-anchor=\"start\" x=\"1154\" y=\"-243.8\" font-family=\"Helvetica,sans-Serif\" font-size=\"14.00\">gini = 0.151</text>\r\n",
       "<text text-anchor=\"start\" x=\"1152\" y=\"-228.8\" font-family=\"Helvetica,sans-Serif\" font-size=\"14.00\">samples = 8</text>\r\n",
       "<text text-anchor=\"start\" x=\"1118.5\" y=\"-213.8\" font-family=\"Helvetica,sans-Serif\" font-size=\"14.00\">value = [2.179, 24.286]</text>\r\n",
       "<text text-anchor=\"start\" x=\"1134.5\" y=\"-198.8\" font-family=\"Helvetica,sans-Serif\" font-size=\"14.00\">class = no deudor</text>\r\n",
       "</g>\r\n",
       "<!-- 34&#45;&gt;40 -->\r\n",
       "<g id=\"edge20\" class=\"edge\"><title>34&#45;&gt;40</title>\r\n",
       "<path fill=\"none\" stroke=\"black\" d=\"M1009.3,-309.907C1038.98,-297.46 1071.52,-283.816 1100.78,-271.546\"/>\r\n",
       "<polygon fill=\"black\" stroke=\"black\" points=\"1102.28,-274.708 1110.15,-267.613 1099.58,-268.253 1102.28,-274.708\"/>\r\n",
       "</g>\r\n",
       "<!-- 36 -->\r\n",
       "<g id=\"node17\" class=\"node\"><title>36</title>\r\n",
       "<path fill=\"#42a1e6\" stroke=\"black\" d=\"M920.5,-155C920.5,-155 782.5,-155 782.5,-155 776.5,-155 770.5,-149 770.5,-143 770.5,-143 770.5,-84 770.5,-84 770.5,-78 776.5,-72 782.5,-72 782.5,-72 920.5,-72 920.5,-72 926.5,-72 932.5,-78 932.5,-84 932.5,-84 932.5,-143 932.5,-143 932.5,-149 926.5,-155 920.5,-155\"/>\r\n",
       "<text text-anchor=\"start\" x=\"779\" y=\"-139.8\" font-family=\"Helvetica,sans-Serif\" font-size=\"14.00\">flag_work_phone ≤ 0.5</text>\r\n",
       "<text text-anchor=\"start\" x=\"814\" y=\"-124.8\" font-family=\"Helvetica,sans-Serif\" font-size=\"14.00\">gini = 0.082</text>\r\n",
       "<text text-anchor=\"start\" x=\"812\" y=\"-109.8\" font-family=\"Helvetica,sans-Serif\" font-size=\"14.00\">samples = 3</text>\r\n",
       "<text text-anchor=\"start\" x=\"778.5\" y=\"-94.8\" font-family=\"Helvetica,sans-Serif\" font-size=\"14.00\">value = [0.545, 12.143]</text>\r\n",
       "<text text-anchor=\"start\" x=\"794.5\" y=\"-79.8\" font-family=\"Helvetica,sans-Serif\" font-size=\"14.00\">class = no deudor</text>\r\n",
       "</g>\r\n",
       "<!-- 35&#45;&gt;36 -->\r\n",
       "<g id=\"edge16\" class=\"edge\"><title>35&#45;&gt;36</title>\r\n",
       "<path fill=\"none\" stroke=\"black\" d=\"M891.336,-190.907C886.794,-182.195 881.946,-172.897 877.252,-163.893\"/>\r\n",
       "<polygon fill=\"black\" stroke=\"black\" points=\"880.353,-162.27 872.626,-155.021 874.146,-165.506 880.353,-162.27\"/>\r\n",
       "</g>\r\n",
       "<!-- 39 -->\r\n",
       "<g id=\"node20\" class=\"node\"><title>39</title>\r\n",
       "<path fill=\"#e58139\" stroke=\"black\" d=\"M1092.5,-147.5C1092.5,-147.5 962.5,-147.5 962.5,-147.5 956.5,-147.5 950.5,-141.5 950.5,-135.5 950.5,-135.5 950.5,-91.5 950.5,-91.5 950.5,-85.5 956.5,-79.5 962.5,-79.5 962.5,-79.5 1092.5,-79.5 1092.5,-79.5 1098.5,-79.5 1104.5,-85.5 1104.5,-91.5 1104.5,-91.5 1104.5,-135.5 1104.5,-135.5 1104.5,-141.5 1098.5,-147.5 1092.5,-147.5\"/>\r\n",
       "<text text-anchor=\"start\" x=\"998.5\" y=\"-132.3\" font-family=\"Helvetica,sans-Serif\" font-size=\"14.00\">gini = 0.0</text>\r\n",
       "<text text-anchor=\"start\" x=\"976\" y=\"-117.3\" font-family=\"Helvetica,sans-Serif\" font-size=\"14.00\">samples = 1014</text>\r\n",
       "<text text-anchor=\"start\" x=\"958.5\" y=\"-102.3\" font-family=\"Helvetica,sans-Serif\" font-size=\"14.00\">value = [552.499, 0.0]</text>\r\n",
       "<text text-anchor=\"start\" x=\"980.5\" y=\"-87.3\" font-family=\"Helvetica,sans-Serif\" font-size=\"14.00\">class = deudor</text>\r\n",
       "</g>\r\n",
       "<!-- 35&#45;&gt;39 -->\r\n",
       "<g id=\"edge19\" class=\"edge\"><title>35&#45;&gt;39</title>\r\n",
       "<path fill=\"none\" stroke=\"black\" d=\"M952.399,-190.907C963.787,-179.321 976.194,-166.698 987.584,-155.111\"/>\r\n",
       "<polygon fill=\"black\" stroke=\"black\" points=\"990.386,-157.252 994.9,-147.667 985.394,-152.345 990.386,-157.252\"/>\r\n",
       "</g>\r\n",
       "<!-- 37 -->\r\n",
       "<g id=\"node18\" class=\"node\"><title>37</title>\r\n",
       "<path fill=\"#c0c0c0\" stroke=\"black\" d=\"M830.5,-36C830.5,-36 800.5,-36 800.5,-36 794.5,-36 788.5,-30 788.5,-24 788.5,-24 788.5,-12 788.5,-12 788.5,-6 794.5,-0 800.5,-0 800.5,-0 830.5,-0 830.5,-0 836.5,-0 842.5,-6 842.5,-12 842.5,-12 842.5,-24 842.5,-24 842.5,-30 836.5,-36 830.5,-36\"/>\r\n",
       "<text text-anchor=\"middle\" x=\"815.5\" y=\"-14.3\" font-family=\"Helvetica,sans-Serif\" font-size=\"14.00\">(...)</text>\r\n",
       "</g>\r\n",
       "<!-- 36&#45;&gt;37 -->\r\n",
       "<g id=\"edge17\" class=\"edge\"><title>36&#45;&gt;37</title>\r\n",
       "<path fill=\"none\" stroke=\"black\" d=\"M835.815,-71.7615C832.457,-63.0419 828.991,-54.0385 825.893,-45.9921\"/>\r\n",
       "<polygon fill=\"black\" stroke=\"black\" points=\"829.061,-44.4797 822.201,-36.4051 822.528,-46.9949 829.061,-44.4797\"/>\r\n",
       "</g>\r\n",
       "<!-- 38 -->\r\n",
       "<g id=\"node19\" class=\"node\"><title>38</title>\r\n",
       "<path fill=\"#c0c0c0\" stroke=\"black\" d=\"M902.5,-36C902.5,-36 872.5,-36 872.5,-36 866.5,-36 860.5,-30 860.5,-24 860.5,-24 860.5,-12 860.5,-12 860.5,-6 866.5,-0 872.5,-0 872.5,-0 902.5,-0 902.5,-0 908.5,-0 914.5,-6 914.5,-12 914.5,-12 914.5,-24 914.5,-24 914.5,-30 908.5,-36 902.5,-36\"/>\r\n",
       "<text text-anchor=\"middle\" x=\"887.5\" y=\"-14.3\" font-family=\"Helvetica,sans-Serif\" font-size=\"14.00\">(...)</text>\r\n",
       "</g>\r\n",
       "<!-- 36&#45;&gt;38 -->\r\n",
       "<g id=\"edge18\" class=\"edge\"><title>36&#45;&gt;38</title>\r\n",
       "<path fill=\"none\" stroke=\"black\" d=\"M867.185,-71.7615C870.543,-63.0419 874.009,-54.0385 877.107,-45.9921\"/>\r\n",
       "<polygon fill=\"black\" stroke=\"black\" points=\"880.472,-46.9949 880.799,-36.4051 873.939,-44.4797 880.472,-46.9949\"/>\r\n",
       "</g>\r\n",
       "<!-- 41 -->\r\n",
       "<g id=\"node22\" class=\"node\"><title>41</title>\r\n",
       "<path fill=\"#e58139\" stroke=\"black\" d=\"M1248,-147.5C1248,-147.5 1135,-147.5 1135,-147.5 1129,-147.5 1123,-141.5 1123,-135.5 1123,-135.5 1123,-91.5 1123,-91.5 1123,-85.5 1129,-79.5 1135,-79.5 1135,-79.5 1248,-79.5 1248,-79.5 1254,-79.5 1260,-85.5 1260,-91.5 1260,-91.5 1260,-135.5 1260,-135.5 1260,-141.5 1254,-147.5 1248,-147.5\"/>\r\n",
       "<text text-anchor=\"start\" x=\"1162.5\" y=\"-132.3\" font-family=\"Helvetica,sans-Serif\" font-size=\"14.00\">gini = 0.0</text>\r\n",
       "<text text-anchor=\"start\" x=\"1152\" y=\"-117.3\" font-family=\"Helvetica,sans-Serif\" font-size=\"14.00\">samples = 4</text>\r\n",
       "<text text-anchor=\"start\" x=\"1131\" y=\"-102.3\" font-family=\"Helvetica,sans-Serif\" font-size=\"14.00\">value = [2.179, 0.0]</text>\r\n",
       "<text text-anchor=\"start\" x=\"1144.5\" y=\"-87.3\" font-family=\"Helvetica,sans-Serif\" font-size=\"14.00\">class = deudor</text>\r\n",
       "</g>\r\n",
       "<!-- 40&#45;&gt;41 -->\r\n",
       "<g id=\"edge21\" class=\"edge\"><title>40&#45;&gt;41</title>\r\n",
       "<path fill=\"none\" stroke=\"black\" d=\"M1191.5,-190.907C1191.5,-180.204 1191.5,-168.615 1191.5,-157.776\"/>\r\n",
       "<polygon fill=\"black\" stroke=\"black\" points=\"1195,-157.667 1191.5,-147.667 1188,-157.667 1195,-157.667\"/>\r\n",
       "</g>\r\n",
       "<!-- 42 -->\r\n",
       "<g id=\"node23\" class=\"node\"><title>42</title>\r\n",
       "<path fill=\"#399de5\" stroke=\"black\" d=\"M1412.5,-147.5C1412.5,-147.5 1290.5,-147.5 1290.5,-147.5 1284.5,-147.5 1278.5,-141.5 1278.5,-135.5 1278.5,-135.5 1278.5,-91.5 1278.5,-91.5 1278.5,-85.5 1284.5,-79.5 1290.5,-79.5 1290.5,-79.5 1412.5,-79.5 1412.5,-79.5 1418.5,-79.5 1424.5,-85.5 1424.5,-91.5 1424.5,-91.5 1424.5,-135.5 1424.5,-135.5 1424.5,-141.5 1418.5,-147.5 1412.5,-147.5\"/>\r\n",
       "<text text-anchor=\"start\" x=\"1322.5\" y=\"-132.3\" font-family=\"Helvetica,sans-Serif\" font-size=\"14.00\">gini = 0.0</text>\r\n",
       "<text text-anchor=\"start\" x=\"1312\" y=\"-117.3\" font-family=\"Helvetica,sans-Serif\" font-size=\"14.00\">samples = 4</text>\r\n",
       "<text text-anchor=\"start\" x=\"1286.5\" y=\"-102.3\" font-family=\"Helvetica,sans-Serif\" font-size=\"14.00\">value = [0.0, 24.286]</text>\r\n",
       "<text text-anchor=\"start\" x=\"1294.5\" y=\"-87.3\" font-family=\"Helvetica,sans-Serif\" font-size=\"14.00\">class = no deudor</text>\r\n",
       "</g>\r\n",
       "<!-- 40&#45;&gt;42 -->\r\n",
       "<g id=\"edge22\" class=\"edge\"><title>40&#45;&gt;42</title>\r\n",
       "<path fill=\"none\" stroke=\"black\" d=\"M1247.01,-190.907C1263.46,-178.88 1281.44,-165.735 1297.77,-153.791\"/>\r\n",
       "<polygon fill=\"black\" stroke=\"black\" points=\"1300.14,-156.395 1306.14,-147.667 1296.01,-150.744 1300.14,-156.395\"/>\r\n",
       "</g>\r\n",
       "</g>\r\n",
       "</svg>\r\n"
      ],
      "text/plain": [
       "<graphviz.files.Source at 0x18418c50e10>"
      ]
     },
     "execution_count": 50,
     "metadata": {},
     "output_type": "execute_result"
    }
   ],
   "source": [
    "graph_tree(grid_search_tree.best_estimator_, mapper.transformed_names_)"
   ]
  },
  {
   "cell_type": "markdown",
   "metadata": {},
   "source": [
    "<u>Conclusiones</u>:\n",
    "* Solo el 10% de las veces que el arbol dijo 1 (deudor) acertó a la predicción.\n",
    "* No obstante, es capaz de encontrar el 78% de los deudores. Esto nos lleva a penar que el modelo esta clasificando muchas veces como deudor a clientes que, en realidad, no lo son.\n",
    "* Debido a la amplia diferencia entre estas métricas, la mejor configuración para este modelo nos arroja un F1 de apenas  ≈0.19."
   ]
  },
  {
   "cell_type": "markdown",
   "metadata": {},
   "source": [
    "### Random Forests"
   ]
  },
  {
   "cell_type": "code",
   "execution_count": 55,
   "metadata": {
    "ExecuteTime": {
     "end_time": "2020-05-21T20:55:04.591138Z",
     "start_time": "2020-05-21T20:55:04.582029Z"
    }
   },
   "outputs": [],
   "source": [
    "def get_forest_config():\n",
    "    params = {\n",
    "            'n_estimators': [100, 150, 200],\n",
    "            'max_depth': [8, 9, 10],\n",
    "            'criterion': ['entropy', 'gini'],\n",
    "            'class_weight': [{0: 1, 1: 2}, 'balanced'],\n",
    "            'n_jobs': [-1]\n",
    "        }\n",
    "    \n",
    "    model = RandomForestClassifier(random_state=1)\n",
    "    \n",
    "    return model, params"
   ]
  },
  {
   "cell_type": "code",
   "execution_count": 56,
   "metadata": {
    "ExecuteTime": {
     "end_time": "2020-05-21T20:57:10.112764Z",
     "start_time": "2020-05-21T20:55:04.999923Z"
    },
    "collapsed": true
   },
   "outputs": [
    {
     "name": "stdout",
     "output_type": "stream",
     "text": [
      "Fitting 5 folds for each of 36 candidates, totalling 180 fits\n"
     ]
    },
    {
     "name": "stderr",
     "output_type": "stream",
     "text": [
      "[Parallel(n_jobs=1)]: Using backend SequentialBackend with 1 concurrent workers.\n",
      "[Parallel(n_jobs=1)]: Done 180 out of 180 | elapsed:  2.1min finished\n"
     ]
    },
    {
     "data": {
      "text/plain": [
       "Pipeline(memory=None,\n",
       "         steps=[('mapper',\n",
       "                 DataFrameMapper(default=False, df_out=False,\n",
       "                                 features=[(['code_gender'],\n",
       "                                            [OneHotEncoder(cols=[0],\n",
       "                                                           drop_invariant=False,\n",
       "                                                           handle_missing='value',\n",
       "                                                           handle_unknown='value',\n",
       "                                                           return_df=True,\n",
       "                                                           use_cat_names=False,\n",
       "                                                           verbose=0)]),\n",
       "                                           (['flag_own_car'],\n",
       "                                            [OneHotEncoder(cols=[0],\n",
       "                                                           drop_invariant=False,\n",
       "                                                           handle_missing='value',\n",
       "                                                           handle_unknown='v...\n",
       "                                                               n_estimators=100,\n",
       "                                                               n_jobs=None,\n",
       "                                                               oob_score=False,\n",
       "                                                               random_state=1,\n",
       "                                                               verbose=0,\n",
       "                                                               warm_start=False),\n",
       "                              iid='deprecated', n_jobs=None,\n",
       "                              param_grid={'class_weight': [{0: 1, 1: 2},\n",
       "                                                           'balanced'],\n",
       "                                          'criterion': ['entropy', 'gini'],\n",
       "                                          'max_depth': [8, 9, 10],\n",
       "                                          'n_estimators': [100, 150, 200],\n",
       "                                          'n_jobs': [-1]},\n",
       "                              pre_dispatch='2*n_jobs', refit=True,\n",
       "                              return_train_score=False, scoring='f1',\n",
       "                              verbose=1))],\n",
       "         verbose=False)"
      ]
     },
     "execution_count": 56,
     "metadata": {},
     "output_type": "execute_result"
    }
   ],
   "source": [
    "model, parameters = get_forest_config()\n",
    "\n",
    "grid_search_forest = GridSearchCV(model, parameters, \n",
    "                                  scoring='f1', verbose=1)\n",
    "\n",
    "pipe_forest = Pipeline([\n",
    "    ('mapper', mapper),\n",
    "    ('imputer', IterativeImputer(random_state=1)),\n",
    "    ('classifier', grid_search_forest),\n",
    "])\n",
    "\n",
    "\n",
    "pipe_forest.fit(train, train.target)"
   ]
  },
  {
   "cell_type": "code",
   "execution_count": 57,
   "metadata": {
    "ExecuteTime": {
     "end_time": "2020-05-21T20:57:10.125729Z",
     "start_time": "2020-05-21T20:57:10.116753Z"
    }
   },
   "outputs": [
    {
     "name": "stdout",
     "output_type": "stream",
     "text": [
      "Mejor score (f1):  0.15870285282781577\n",
      "Mejores parámetros:  {'class_weight': 'balanced', 'criterion': 'entropy', 'max_depth': 8, 'n_estimators': 200, 'n_jobs': -1}\n"
     ]
    }
   ],
   "source": [
    "print('Mejor score (f1): ', grid_search_forest.best_score_)\n",
    "print('Mejores parámetros: ', grid_search_forest.best_params_)"
   ]
  },
  {
   "cell_type": "code",
   "execution_count": 58,
   "metadata": {
    "ExecuteTime": {
     "end_time": "2020-05-21T20:57:10.714189Z",
     "start_time": "2020-05-21T20:57:10.129720Z"
    },
    "hide_input": false
   },
   "outputs": [
    {
     "data": {
      "text/plain": [
       "'Random forest'"
      ]
     },
     "metadata": {},
     "output_type": "display_data"
    },
    {
     "data": {
      "text/html": [
       "<div>\n",
       "<style scoped>\n",
       "    .dataframe tbody tr th:only-of-type {\n",
       "        vertical-align: middle;\n",
       "    }\n",
       "\n",
       "    .dataframe tbody tr th {\n",
       "        vertical-align: top;\n",
       "    }\n",
       "\n",
       "    .dataframe thead th {\n",
       "        text-align: right;\n",
       "    }\n",
       "</style>\n",
       "<table border=\"1\" class=\"dataframe\">\n",
       "  <thead>\n",
       "    <tr style=\"text-align: right;\">\n",
       "      <th></th>\n",
       "      <th>Accuracy</th>\n",
       "      <th>Precision</th>\n",
       "      <th>Recall</th>\n",
       "      <th>F1</th>\n",
       "    </tr>\n",
       "  </thead>\n",
       "  <tbody>\n",
       "    <tr>\n",
       "      <th>train</th>\n",
       "      <td>0.758688</td>\n",
       "      <td>0.243415</td>\n",
       "      <td>0.915596</td>\n",
       "      <td>0.384586</td>\n",
       "    </tr>\n",
       "    <tr>\n",
       "      <th>test</th>\n",
       "      <td>0.682875</td>\n",
       "      <td>0.127517</td>\n",
       "      <td>0.487179</td>\n",
       "      <td>0.202128</td>\n",
       "    </tr>\n",
       "  </tbody>\n",
       "</table>\n",
       "</div>"
      ],
      "text/plain": [
       "       Accuracy  Precision    Recall        F1\n",
       "train  0.758688   0.243415  0.915596  0.384586\n",
       "test   0.682875   0.127517  0.487179  0.202128"
      ]
     },
     "metadata": {},
     "output_type": "display_data"
    }
   ],
   "source": [
    "evaluate_model(pipe_forest, title='Random forest')"
   ]
  },
  {
   "cell_type": "markdown",
   "metadata": {},
   "source": [
    "**Error al imprimir el arbol**"
   ]
  },
  {
   "cell_type": "code",
   "execution_count": 19,
   "metadata": {
    "ExecuteTime": {
     "end_time": "2020-05-21T20:10:34.412687Z",
     "start_time": "2020-05-21T20:10:34.408694Z"
    }
   },
   "outputs": [],
   "source": [
    "#graph_tree(grid_search_forest.best_estimator_, mapper.transformed_names_)"
   ]
  },
  {
   "cell_type": "markdown",
   "metadata": {
    "ExecuteTime": {
     "end_time": "2020-05-19T18:44:49.622165Z",
     "start_time": "2020-05-19T18:44:49.615186Z"
    }
   },
   "source": [
    "<u>Conclusiones</u>:\n",
    "* Solo el ≈13% de las veces que el arbol dijo 1 (deudor) acertó a la predicción.\n",
    "* En esta ocasión, es capaz de encontrar el ≈49% de los deudores. Esto nos lleva a penar, que a diferencia del decission tree, el forest esta diciendo \"esta persona será deudor\" en una proporción menor.\n",
    "* Debido a la diferencia entre estas métricas, la mejor configuración para random forest nos arroja un F1 de apenas  ≈0.20."
   ]
  },
  {
   "cell_type": "markdown",
   "metadata": {},
   "source": [
    "### Logistic Regression"
   ]
  },
  {
   "cell_type": "code",
   "execution_count": 20,
   "metadata": {
    "ExecuteTime": {
     "end_time": "2020-05-21T20:10:38.479580Z",
     "start_time": "2020-05-21T20:10:38.468610Z"
    }
   },
   "outputs": [],
   "source": [
    "def get_logistic_regression_config():\n",
    "    params = {\n",
    "            'penalty': ['l1', 'l2', 'elasticnet'],\n",
    "            'C': [0.1, 1, 0.5],\n",
    "            'class_weight': [{0: 1, 1: 2}, 'balanced']\n",
    "        }\n",
    "    \n",
    "    model = LogisticRegression(random_state=1)\n",
    "    \n",
    "    return model, params"
   ]
  },
  {
   "cell_type": "code",
   "execution_count": 21,
   "metadata": {
    "ExecuteTime": {
     "end_time": "2020-05-21T20:10:41.958692Z",
     "start_time": "2020-05-21T20:10:38.621509Z"
    },
    "collapsed": true
   },
   "outputs": [
    {
     "name": "stdout",
     "output_type": "stream",
     "text": [
      "Fitting 5 folds for each of 18 candidates, totalling 90 fits\n"
     ]
    },
    {
     "name": "stderr",
     "output_type": "stream",
     "text": [
      "[Parallel(n_jobs=1)]: Using backend SequentialBackend with 1 concurrent workers.\n",
      "C:\\Users\\agus_\\Miniconda3\\envs\\venv\\lib\\site-packages\\sklearn\\model_selection\\_validation.py:536: FitFailedWarning: Estimator fit failed. The score on this train-test partition for these parameters will be set to nan. Details: \n",
      "ValueError: Solver lbfgs supports only 'l2' or 'none' penalties, got l1 penalty.\n",
      "\n",
      "  FitFailedWarning)\n",
      "C:\\Users\\agus_\\Miniconda3\\envs\\venv\\lib\\site-packages\\sklearn\\model_selection\\_validation.py:536: FitFailedWarning: Estimator fit failed. The score on this train-test partition for these parameters will be set to nan. Details: \n",
      "ValueError: Solver lbfgs supports only 'l2' or 'none' penalties, got elasticnet penalty.\n",
      "\n",
      "  FitFailedWarning)\n",
      "C:\\Users\\agus_\\Miniconda3\\envs\\venv\\lib\\site-packages\\sklearn\\model_selection\\_validation.py:536: FitFailedWarning: Estimator fit failed. The score on this train-test partition for these parameters will be set to nan. Details: \n",
      "ValueError: Solver lbfgs supports only 'l2' or 'none' penalties, got l1 penalty.\n",
      "\n",
      "  FitFailedWarning)\n",
      "C:\\Users\\agus_\\Miniconda3\\envs\\venv\\lib\\site-packages\\sklearn\\model_selection\\_validation.py:536: FitFailedWarning: Estimator fit failed. The score on this train-test partition for these parameters will be set to nan. Details: \n",
      "ValueError: Solver lbfgs supports only 'l2' or 'none' penalties, got elasticnet penalty.\n",
      "\n",
      "  FitFailedWarning)\n",
      "C:\\Users\\agus_\\Miniconda3\\envs\\venv\\lib\\site-packages\\sklearn\\model_selection\\_validation.py:536: FitFailedWarning: Estimator fit failed. The score on this train-test partition for these parameters will be set to nan. Details: \n",
      "ValueError: Solver lbfgs supports only 'l2' or 'none' penalties, got l1 penalty.\n",
      "\n",
      "  FitFailedWarning)\n",
      "C:\\Users\\agus_\\Miniconda3\\envs\\venv\\lib\\site-packages\\sklearn\\model_selection\\_validation.py:536: FitFailedWarning: Estimator fit failed. The score on this train-test partition for these parameters will be set to nan. Details: \n",
      "ValueError: Solver lbfgs supports only 'l2' or 'none' penalties, got elasticnet penalty.\n",
      "\n",
      "  FitFailedWarning)\n",
      "C:\\Users\\agus_\\Miniconda3\\envs\\venv\\lib\\site-packages\\sklearn\\model_selection\\_validation.py:536: FitFailedWarning: Estimator fit failed. The score on this train-test partition for these parameters will be set to nan. Details: \n",
      "ValueError: Solver lbfgs supports only 'l2' or 'none' penalties, got l1 penalty.\n",
      "\n",
      "  FitFailedWarning)\n",
      "C:\\Users\\agus_\\Miniconda3\\envs\\venv\\lib\\site-packages\\sklearn\\model_selection\\_validation.py:536: FitFailedWarning: Estimator fit failed. The score on this train-test partition for these parameters will be set to nan. Details: \n",
      "ValueError: Solver lbfgs supports only 'l2' or 'none' penalties, got elasticnet penalty.\n",
      "\n",
      "  FitFailedWarning)\n",
      "C:\\Users\\agus_\\Miniconda3\\envs\\venv\\lib\\site-packages\\sklearn\\model_selection\\_validation.py:536: FitFailedWarning: Estimator fit failed. The score on this train-test partition for these parameters will be set to nan. Details: \n",
      "ValueError: Solver lbfgs supports only 'l2' or 'none' penalties, got l1 penalty.\n",
      "\n",
      "  FitFailedWarning)\n",
      "C:\\Users\\agus_\\Miniconda3\\envs\\venv\\lib\\site-packages\\sklearn\\model_selection\\_validation.py:536: FitFailedWarning: Estimator fit failed. The score on this train-test partition for these parameters will be set to nan. Details: \n",
      "ValueError: Solver lbfgs supports only 'l2' or 'none' penalties, got elasticnet penalty.\n",
      "\n",
      "  FitFailedWarning)\n",
      "C:\\Users\\agus_\\Miniconda3\\envs\\venv\\lib\\site-packages\\sklearn\\model_selection\\_validation.py:536: FitFailedWarning: Estimator fit failed. The score on this train-test partition for these parameters will be set to nan. Details: \n",
      "ValueError: Solver lbfgs supports only 'l2' or 'none' penalties, got l1 penalty.\n",
      "\n",
      "  FitFailedWarning)\n",
      "C:\\Users\\agus_\\Miniconda3\\envs\\venv\\lib\\site-packages\\sklearn\\model_selection\\_validation.py:536: FitFailedWarning: Estimator fit failed. The score on this train-test partition for these parameters will be set to nan. Details: \n",
      "ValueError: Solver lbfgs supports only 'l2' or 'none' penalties, got elasticnet penalty.\n",
      "\n",
      "  FitFailedWarning)\n",
      "[Parallel(n_jobs=1)]: Done  90 out of  90 | elapsed:    2.1s finished\n"
     ]
    },
    {
     "data": {
      "text/plain": [
       "Pipeline(memory=None,\n",
       "         steps=[('mapper',\n",
       "                 DataFrameMapper(default=False, df_out=False,\n",
       "                                 features=[(['code_gender'],\n",
       "                                            [OneHotEncoder(cols=[0],\n",
       "                                                           drop_invariant=False,\n",
       "                                                           handle_missing='value',\n",
       "                                                           handle_unknown='value',\n",
       "                                                           return_df=True,\n",
       "                                                           use_cat_names=False,\n",
       "                                                           verbose=0)]),\n",
       "                                           (['flag_own_car'],\n",
       "                                            [OneHotEncoder(cols=[0],\n",
       "                                                           drop_invariant=False,\n",
       "                                                           handle_missing='value',\n",
       "                                                           handle_unknown='v...\n",
       "                                                           max_iter=100,\n",
       "                                                           multi_class='auto',\n",
       "                                                           n_jobs=None,\n",
       "                                                           penalty='l2',\n",
       "                                                           random_state=1,\n",
       "                                                           solver='lbfgs',\n",
       "                                                           tol=0.0001,\n",
       "                                                           verbose=0,\n",
       "                                                           warm_start=False),\n",
       "                              iid='deprecated', n_jobs=None,\n",
       "                              param_grid={'C': [0.1, 1, 0.5],\n",
       "                                          'class_weight': [{0: 1, 1: 2},\n",
       "                                                           'balanced'],\n",
       "                                          'penalty': ['l1', 'l2',\n",
       "                                                      'elasticnet']},\n",
       "                              pre_dispatch='2*n_jobs', refit=True,\n",
       "                              return_train_score=False, scoring='f1',\n",
       "                              verbose=1))],\n",
       "         verbose=False)"
      ]
     },
     "execution_count": 21,
     "metadata": {},
     "output_type": "execute_result"
    }
   ],
   "source": [
    "model, parameters = get_logistic_regression_config()\n",
    "\n",
    "grid_search_logistic_regression = GridSearchCV(model, parameters, \n",
    "                                               scoring='f1', verbose=1)\n",
    "\n",
    "pipe_logistic_regression = Pipeline([\n",
    "    ('mapper', mapper),\n",
    "    ('imputer', IterativeImputer(random_state=1)),\n",
    "    ('classifier', grid_search_logistic_regression),\n",
    "])\n",
    "\n",
    "\n",
    "pipe_logistic_regression.fit(train, train.target)"
   ]
  },
  {
   "cell_type": "code",
   "execution_count": 22,
   "metadata": {
    "ExecuteTime": {
     "end_time": "2020-05-21T20:10:41.968666Z",
     "start_time": "2020-05-21T20:10:41.962682Z"
    }
   },
   "outputs": [
    {
     "name": "stdout",
     "output_type": "stream",
     "text": [
      "Mejor score (f1):  0.16942333824222972\n",
      "Mejores parámetros:  {'C': 0.5, 'class_weight': 'balanced', 'penalty': 'l2'}\n"
     ]
    }
   ],
   "source": [
    "print('Mejor score (f1): ', grid_search_logistic_regression.best_score_)\n",
    "print('Mejores parámetros: ', grid_search_logistic_regression.best_params_)"
   ]
  },
  {
   "cell_type": "code",
   "execution_count": 23,
   "metadata": {
    "ExecuteTime": {
     "end_time": "2020-05-21T20:10:42.239469Z",
     "start_time": "2020-05-21T20:10:41.972656Z"
    }
   },
   "outputs": [
    {
     "data": {
      "text/plain": [
       "'Logistic Regression'"
      ]
     },
     "metadata": {},
     "output_type": "display_data"
    },
    {
     "data": {
      "text/html": [
       "<div>\n",
       "<style scoped>\n",
       "    .dataframe tbody tr th:only-of-type {\n",
       "        vertical-align: middle;\n",
       "    }\n",
       "\n",
       "    .dataframe tbody tr th {\n",
       "        vertical-align: top;\n",
       "    }\n",
       "\n",
       "    .dataframe thead th {\n",
       "        text-align: right;\n",
       "    }\n",
       "</style>\n",
       "<table border=\"1\" class=\"dataframe\">\n",
       "  <thead>\n",
       "    <tr style=\"text-align: right;\">\n",
       "      <th></th>\n",
       "      <th>Accuracy</th>\n",
       "      <th>Precision</th>\n",
       "      <th>Recall</th>\n",
       "      <th>F1</th>\n",
       "    </tr>\n",
       "  </thead>\n",
       "  <tbody>\n",
       "    <tr>\n",
       "      <th>train</th>\n",
       "      <td>0.550620</td>\n",
       "      <td>0.10581</td>\n",
       "      <td>0.598165</td>\n",
       "      <td>0.179812</td>\n",
       "    </tr>\n",
       "    <tr>\n",
       "      <th>test</th>\n",
       "      <td>0.539112</td>\n",
       "      <td>0.10104</td>\n",
       "      <td>0.581197</td>\n",
       "      <td>0.172152</td>\n",
       "    </tr>\n",
       "  </tbody>\n",
       "</table>\n",
       "</div>"
      ],
      "text/plain": [
       "       Accuracy  Precision    Recall        F1\n",
       "train  0.550620    0.10581  0.598165  0.179812\n",
       "test   0.539112    0.10104  0.581197  0.172152"
      ]
     },
     "metadata": {},
     "output_type": "display_data"
    }
   ],
   "source": [
    "evaluate_model(pipe_logistic_regression, title='Logistic Regression')"
   ]
  },
  {
   "cell_type": "markdown",
   "metadata": {},
   "source": [
    "<u>Conclusiones</u>:\n",
    "* Solo el 10% de las veces que el modelo dijo 1 (deudor) acertó a la predicción.\n",
    "* No obstante, es capaz de encontrar el 58% de los deudores. Esto significa que esta pasando algo similar a los modelos anteriores, el modelo esta clasificando muchas veces como deudor a clientes que, en realidad, no lo son, pero en menor medida.\n",
    "* Debido a la diferencia existente entre estas métricas, la mejor configuración para la logistic regression nos arroja un F1 de apenas ≈0.17."
   ]
  },
  {
   "cell_type": "markdown",
   "metadata": {},
   "source": [
    "### K Nearest Neighbors (KNN)"
   ]
  },
  {
   "cell_type": "markdown",
   "metadata": {},
   "source": [
    "**With grid search**"
   ]
  },
  {
   "cell_type": "code",
   "execution_count": 87,
   "metadata": {
    "ExecuteTime": {
     "end_time": "2020-05-21T21:10:19.124496Z",
     "start_time": "2020-05-21T21:10:19.117515Z"
    }
   },
   "outputs": [],
   "source": [
    "def get_knn_config():\n",
    "    params = {\n",
    "            'n_neighbors': [5, 10, 15, 20],\n",
    "            'weights': ['uniform', 'distance']\n",
    "        }\n",
    "    \n",
    "    model = KNeighborsClassifier()\n",
    "    \n",
    "    return model, params"
   ]
  },
  {
   "cell_type": "code",
   "execution_count": 88,
   "metadata": {
    "ExecuteTime": {
     "end_time": "2020-05-21T21:10:31.174787Z",
     "start_time": "2020-05-21T21:10:19.350424Z"
    },
    "collapsed": true
   },
   "outputs": [
    {
     "name": "stdout",
     "output_type": "stream",
     "text": [
      "Fitting 5 folds for each of 8 candidates, totalling 40 fits\n"
     ]
    },
    {
     "name": "stderr",
     "output_type": "stream",
     "text": [
      "[Parallel(n_jobs=1)]: Using backend SequentialBackend with 1 concurrent workers.\n",
      "[Parallel(n_jobs=1)]: Done  40 out of  40 | elapsed:   10.8s finished\n"
     ]
    },
    {
     "data": {
      "text/plain": [
       "Pipeline(memory=None,\n",
       "         steps=[('mapper',\n",
       "                 DataFrameMapper(default=False, df_out=False,\n",
       "                                 features=[(['code_gender'],\n",
       "                                            [OneHotEncoder(cols=[0],\n",
       "                                                           drop_invariant=False,\n",
       "                                                           handle_missing='value',\n",
       "                                                           handle_unknown='value',\n",
       "                                                           return_df=True,\n",
       "                                                           use_cat_names=False,\n",
       "                                                           verbose=0)]),\n",
       "                                           (['flag_own_car'],\n",
       "                                            [OneHotEncoder(cols=[0],\n",
       "                                                           drop_invariant=False,\n",
       "                                                           handle_missing='value',\n",
       "                                                           handle_unknown='v...\n",
       "                              estimator=KNeighborsClassifier(algorithm='auto',\n",
       "                                                             leaf_size=30,\n",
       "                                                             metric='minkowski',\n",
       "                                                             metric_params=None,\n",
       "                                                             n_jobs=None,\n",
       "                                                             n_neighbors=5, p=2,\n",
       "                                                             weights='uniform'),\n",
       "                              iid='deprecated', n_jobs=None,\n",
       "                              param_grid={'n_neighbors': [5, 10, 15, 20],\n",
       "                                          'weights': ['uniform', 'distance']},\n",
       "                              pre_dispatch='2*n_jobs', refit=True,\n",
       "                              return_train_score=False, scoring='f1',\n",
       "                              verbose=1))],\n",
       "         verbose=False)"
      ]
     },
     "execution_count": 88,
     "metadata": {},
     "output_type": "execute_result"
    }
   ],
   "source": [
    "model, parameters = get_knn_config()\n",
    "\n",
    "grid_search_knn = GridSearchCV(model, parameters, \n",
    "                               scoring='f1', verbose=1)\n",
    "\n",
    "pipe_knn = Pipeline([\n",
    "    ('mapper', mapper),\n",
    "    ('imputer', IterativeImputer(random_state=1)),\n",
    "    ('classifier', grid_search_knn),\n",
    "])\n",
    "\n",
    "\n",
    "pipe_knn.fit(train, train.target)"
   ]
  },
  {
   "cell_type": "code",
   "execution_count": 89,
   "metadata": {
    "ExecuteTime": {
     "end_time": "2020-05-21T21:10:31.186755Z",
     "start_time": "2020-05-21T21:10:31.179771Z"
    }
   },
   "outputs": [
    {
     "name": "stdout",
     "output_type": "stream",
     "text": [
      "Mejor score (f1):  0.009848685488285044\n",
      "Mejores parámetros:  {'n_neighbors': 5, 'weights': 'distance'}\n"
     ]
    }
   ],
   "source": [
    "print('Mejor score (f1): ', grid_search_knn.best_score_)\n",
    "print('Mejores parámetros: ', grid_search_knn.best_params_)"
   ]
  },
  {
   "cell_type": "code",
   "execution_count": 90,
   "metadata": {
    "ExecuteTime": {
     "end_time": "2020-05-21T21:10:32.453160Z",
     "start_time": "2020-05-21T21:10:31.189748Z"
    }
   },
   "outputs": [
    {
     "data": {
      "text/plain": [
       "'KNN'"
      ]
     },
     "metadata": {},
     "output_type": "display_data"
    },
    {
     "data": {
      "text/html": [
       "<div>\n",
       "<style scoped>\n",
       "    .dataframe tbody tr th:only-of-type {\n",
       "        vertical-align: middle;\n",
       "    }\n",
       "\n",
       "    .dataframe tbody tr th {\n",
       "        vertical-align: top;\n",
       "    }\n",
       "\n",
       "    .dataframe thead th {\n",
       "        text-align: right;\n",
       "    }\n",
       "</style>\n",
       "<table border=\"1\" class=\"dataframe\">\n",
       "  <thead>\n",
       "    <tr style=\"text-align: right;\">\n",
       "      <th></th>\n",
       "      <th>Accuracy</th>\n",
       "      <th>Precision</th>\n",
       "      <th>Recall</th>\n",
       "      <th>F1</th>\n",
       "    </tr>\n",
       "  </thead>\n",
       "  <tbody>\n",
       "    <tr>\n",
       "      <th>train</th>\n",
       "      <td>1.000000</td>\n",
       "      <td>1.000000</td>\n",
       "      <td>1.000000</td>\n",
       "      <td>1.000000</td>\n",
       "    </tr>\n",
       "    <tr>\n",
       "      <th>test</th>\n",
       "      <td>0.909091</td>\n",
       "      <td>0.071429</td>\n",
       "      <td>0.008547</td>\n",
       "      <td>0.015267</td>\n",
       "    </tr>\n",
       "  </tbody>\n",
       "</table>\n",
       "</div>"
      ],
      "text/plain": [
       "       Accuracy  Precision    Recall        F1\n",
       "train  1.000000   1.000000  1.000000  1.000000\n",
       "test   0.909091   0.071429  0.008547  0.015267"
      ]
     },
     "metadata": {},
     "output_type": "display_data"
    }
   ],
   "source": [
    "evaluate_model(pipe_knn, title='KNN')"
   ]
  },
  {
   "cell_type": "markdown",
   "metadata": {},
   "source": [
    "Claramente esta overfiteando. Es por ello que realizamos entrenamiento sin grid search para verificar el funcionamiento del modelo."
   ]
  },
  {
   "cell_type": "markdown",
   "metadata": {},
   "source": [
    "**Without grid search**"
   ]
  },
  {
   "cell_type": "code",
   "execution_count": 82,
   "metadata": {
    "ExecuteTime": {
     "end_time": "2020-05-21T21:09:17.480727Z",
     "start_time": "2020-05-21T21:09:15.761905Z"
    },
    "collapsed": true
   },
   "outputs": [
    {
     "data": {
      "text/plain": [
       "Pipeline(memory=None,\n",
       "         steps=[('mapper',\n",
       "                 DataFrameMapper(default=False, df_out=False,\n",
       "                                 features=[(['code_gender'],\n",
       "                                            [OneHotEncoder(cols=[0],\n",
       "                                                           drop_invariant=False,\n",
       "                                                           handle_missing='value',\n",
       "                                                           handle_unknown='value',\n",
       "                                                           return_df=True,\n",
       "                                                           use_cat_names=False,\n",
       "                                                           verbose=0)]),\n",
       "                                           (['flag_own_car'],\n",
       "                                            [OneHotEncoder(cols=[0],\n",
       "                                                           drop_invariant=False,\n",
       "                                                           handle_missing='value',\n",
       "                                                           handle_unknown='v...\n",
       "                                  initial_strategy='mean', max_iter=10,\n",
       "                                  max_value=None, min_value=None,\n",
       "                                  missing_values=nan, n_nearest_features=None,\n",
       "                                  random_state=1, sample_posterior=False,\n",
       "                                  skip_complete=False, tol=0.001, verbose=0)),\n",
       "                ('classifier',\n",
       "                 KNeighborsClassifier(algorithm='auto', leaf_size=30,\n",
       "                                      metric='minkowski', metric_params=None,\n",
       "                                      n_jobs=None, n_neighbors=8, p=2,\n",
       "                                      weights='uniform'))],\n",
       "         verbose=False)"
      ]
     },
     "execution_count": 82,
     "metadata": {},
     "output_type": "execute_result"
    }
   ],
   "source": [
    "K_1 = 5\n",
    "K_2 = 8\n",
    "\n",
    "knn_model_1 = Pipeline([\n",
    "    ('mapper', mapper),\n",
    "    ('imputer', IterativeImputer(random_state=1)),\n",
    "    ('classifier', KNeighborsClassifier(n_neighbors=K_1)),\n",
    "])\n",
    "\n",
    "knn_model_2 = Pipeline([\n",
    "    ('mapper', mapper),\n",
    "    ('imputer', IterativeImputer(random_state=1)),\n",
    "    ('classifier', KNeighborsClassifier(n_neighbors=K_2)),\n",
    "])\n",
    "\n",
    "knn_model_1.fit(train, train.target)\n",
    "knn_model_2.fit(train, train.target)"
   ]
  },
  {
   "cell_type": "code",
   "execution_count": 83,
   "metadata": {
    "ExecuteTime": {
     "end_time": "2020-05-21T21:09:18.984753Z",
     "start_time": "2020-05-21T21:09:17.484714Z"
    }
   },
   "outputs": [
    {
     "data": {
      "text/plain": [
       "'KNN'"
      ]
     },
     "metadata": {},
     "output_type": "display_data"
    },
    {
     "data": {
      "text/html": [
       "<div>\n",
       "<style scoped>\n",
       "    .dataframe tbody tr th:only-of-type {\n",
       "        vertical-align: middle;\n",
       "    }\n",
       "\n",
       "    .dataframe tbody tr th {\n",
       "        vertical-align: top;\n",
       "    }\n",
       "\n",
       "    .dataframe thead th {\n",
       "        text-align: right;\n",
       "    }\n",
       "</style>\n",
       "<table border=\"1\" class=\"dataframe\">\n",
       "  <thead>\n",
       "    <tr style=\"text-align: right;\">\n",
       "      <th></th>\n",
       "      <th>Accuracy</th>\n",
       "      <th>Precision</th>\n",
       "      <th>Recall</th>\n",
       "      <th>F1</th>\n",
       "    </tr>\n",
       "  </thead>\n",
       "  <tbody>\n",
       "    <tr>\n",
       "      <th>train</th>\n",
       "      <td>0.918858</td>\n",
       "      <td>0.642857</td>\n",
       "      <td>0.033028</td>\n",
       "      <td>0.062827</td>\n",
       "    </tr>\n",
       "    <tr>\n",
       "      <th>test</th>\n",
       "      <td>0.913319</td>\n",
       "      <td>0.000000</td>\n",
       "      <td>0.000000</td>\n",
       "      <td>0.000000</td>\n",
       "    </tr>\n",
       "  </tbody>\n",
       "</table>\n",
       "</div>"
      ],
      "text/plain": [
       "       Accuracy  Precision    Recall        F1\n",
       "train  0.918858   0.642857  0.033028  0.062827\n",
       "test   0.913319   0.000000  0.000000  0.000000"
      ]
     },
     "metadata": {},
     "output_type": "display_data"
    }
   ],
   "source": [
    "evaluate_model(knn_model_1, title='KNN')"
   ]
  },
  {
   "cell_type": "code",
   "execution_count": 84,
   "metadata": {
    "ExecuteTime": {
     "end_time": "2020-05-21T21:09:20.746607Z",
     "start_time": "2020-05-21T21:09:18.989741Z"
    }
   },
   "outputs": [
    {
     "data": {
      "text/plain": [
       "'KNN'"
      ]
     },
     "metadata": {},
     "output_type": "display_data"
    },
    {
     "name": "stderr",
     "output_type": "stream",
     "text": [
      "C:\\Users\\agus_\\Miniconda3\\envs\\venv\\lib\\site-packages\\sklearn\\metrics\\_classification.py:1272: UndefinedMetricWarning: Precision is ill-defined and being set to 0.0 due to no predicted samples. Use `zero_division` parameter to control this behavior.\n",
      "  _warn_prf(average, modifier, msg_start, len(result))\n"
     ]
    },
    {
     "data": {
      "text/html": [
       "<div>\n",
       "<style scoped>\n",
       "    .dataframe tbody tr th:only-of-type {\n",
       "        vertical-align: middle;\n",
       "    }\n",
       "\n",
       "    .dataframe tbody tr th {\n",
       "        vertical-align: top;\n",
       "    }\n",
       "\n",
       "    .dataframe thead th {\n",
       "        text-align: right;\n",
       "    }\n",
       "</style>\n",
       "<table border=\"1\" class=\"dataframe\">\n",
       "  <thead>\n",
       "    <tr style=\"text-align: right;\">\n",
       "      <th></th>\n",
       "      <th>Accuracy</th>\n",
       "      <th>Precision</th>\n",
       "      <th>Recall</th>\n",
       "      <th>F1</th>\n",
       "    </tr>\n",
       "  </thead>\n",
       "  <tbody>\n",
       "    <tr>\n",
       "      <th>train</th>\n",
       "      <td>0.917498</td>\n",
       "      <td>0.0</td>\n",
       "      <td>0.0</td>\n",
       "      <td>0.0</td>\n",
       "    </tr>\n",
       "    <tr>\n",
       "      <th>test</th>\n",
       "      <td>0.917548</td>\n",
       "      <td>0.0</td>\n",
       "      <td>0.0</td>\n",
       "      <td>0.0</td>\n",
       "    </tr>\n",
       "  </tbody>\n",
       "</table>\n",
       "</div>"
      ],
      "text/plain": [
       "       Accuracy  Precision  Recall   F1\n",
       "train  0.917498        0.0     0.0  0.0\n",
       "test   0.917548        0.0     0.0  0.0"
      ]
     },
     "metadata": {},
     "output_type": "display_data"
    }
   ],
   "source": [
    "evaluate_model(knn_model_2, title='KNN')"
   ]
  },
  {
   "cell_type": "markdown",
   "metadata": {},
   "source": [
    "<u>Conclusiones</u>:\n",
    "\n",
    "* KNN no es un modelo aplicable a este problema, debido a que con las diferentes combinaciónes testeadas, no es capaz de realizar un training exitoso (overfitea o underfitea)."
   ]
  },
  {
   "cell_type": "markdown",
   "metadata": {},
   "source": [
    "### Gradient Boosted Trees"
   ]
  },
  {
   "cell_type": "code",
   "execution_count": 105,
   "metadata": {
    "ExecuteTime": {
     "end_time": "2020-05-21T21:37:39.614713Z",
     "start_time": "2020-05-21T21:37:39.607737Z"
    }
   },
   "outputs": [],
   "source": [
    "def get_gradient_boosting_config():\n",
    "    params = {\n",
    "            'loss': ['deviance'],\n",
    "            'n_estimators': [100, 120, 150],\n",
    "            'criterion': ['friedman_mse'],\n",
    "            'max_depth': [8, 9, 10]\n",
    "        }\n",
    "    \n",
    "    model = GradientBoostingClassifier(random_state=1)\n",
    "    \n",
    "    return model, params"
   ]
  },
  {
   "cell_type": "code",
   "execution_count": 106,
   "metadata": {
    "ExecuteTime": {
     "end_time": "2020-05-21T21:40:11.478299Z",
     "start_time": "2020-05-21T21:37:39.802583Z"
    }
   },
   "outputs": [
    {
     "name": "stdout",
     "output_type": "stream",
     "text": [
      "Fitting 5 folds for each of 9 candidates, totalling 45 fits\n"
     ]
    },
    {
     "name": "stderr",
     "output_type": "stream",
     "text": [
      "[Parallel(n_jobs=1)]: Using backend SequentialBackend with 1 concurrent workers.\n",
      "[Parallel(n_jobs=1)]: Done  45 out of  45 | elapsed:  2.4min finished\n"
     ]
    },
    {
     "data": {
      "text/plain": [
       "Pipeline(memory=None,\n",
       "         steps=[('mapper',\n",
       "                 DataFrameMapper(default=False, df_out=False,\n",
       "                                 features=[(['code_gender'],\n",
       "                                            [OneHotEncoder(cols=[0],\n",
       "                                                           drop_invariant=False,\n",
       "                                                           handle_missing='value',\n",
       "                                                           handle_unknown='value',\n",
       "                                                           return_df=True,\n",
       "                                                           use_cat_names=False,\n",
       "                                                           verbose=0)]),\n",
       "                                           (['flag_own_car'],\n",
       "                                            [OneHotEncoder(cols=[0],\n",
       "                                                           drop_invariant=False,\n",
       "                                                           handle_missing='value',\n",
       "                                                           handle_unknown='v...\n",
       "                                                                   presort='deprecated',\n",
       "                                                                   random_state=1,\n",
       "                                                                   subsample=1.0,\n",
       "                                                                   tol=0.0001,\n",
       "                                                                   validation_fraction=0.1,\n",
       "                                                                   verbose=0,\n",
       "                                                                   warm_start=False),\n",
       "                              iid='deprecated', n_jobs=None,\n",
       "                              param_grid={'criterion': ['friedman_mse'],\n",
       "                                          'loss': ['deviance'],\n",
       "                                          'max_depth': [8, 9, 10],\n",
       "                                          'n_estimators': [100, 120, 150]},\n",
       "                              pre_dispatch='2*n_jobs', refit=True,\n",
       "                              return_train_score=False, scoring='f1',\n",
       "                              verbose=1))],\n",
       "         verbose=False)"
      ]
     },
     "execution_count": 106,
     "metadata": {},
     "output_type": "execute_result"
    }
   ],
   "source": [
    "model, parameters = get_gradient_boosting_config()\n",
    "\n",
    "grid_search_gradient_boosting = GridSearchCV(model, parameters, \n",
    "                                scoring='f1', verbose=1)\n",
    "\n",
    "pipe_gradient_boosting = Pipeline([\n",
    "    ('mapper', mapper),\n",
    "    ('imputer', IterativeImputer(random_state=1)),\n",
    "    ('classifier', grid_search_gradient_boosting),\n",
    "])\n",
    "\n",
    "\n",
    "pipe_gradient_boosting.fit(train, train.target)"
   ]
  },
  {
   "cell_type": "code",
   "execution_count": 107,
   "metadata": {
    "ExecuteTime": {
     "end_time": "2020-05-21T21:40:11.488272Z",
     "start_time": "2020-05-21T21:40:11.481294Z"
    }
   },
   "outputs": [
    {
     "name": "stdout",
     "output_type": "stream",
     "text": [
      "Mejor score (f1):  0.0512570312174717\n",
      "Mejores parámetros:  {'criterion': 'friedman_mse', 'loss': 'deviance', 'max_depth': 10, 'n_estimators': 120}\n"
     ]
    }
   ],
   "source": [
    "print('Mejor score (f1): ', grid_search_gradient_boosting.best_score_)\n",
    "print('Mejores parámetros: ', grid_search_gradient_boosting.best_params_)"
   ]
  },
  {
   "cell_type": "code",
   "execution_count": 108,
   "metadata": {
    "ExecuteTime": {
     "end_time": "2020-05-21T21:40:11.770589Z",
     "start_time": "2020-05-21T21:40:11.491264Z"
    }
   },
   "outputs": [
    {
     "data": {
      "text/plain": [
       "'Gradient Boosting'"
      ]
     },
     "metadata": {},
     "output_type": "display_data"
    },
    {
     "data": {
      "text/html": [
       "<div>\n",
       "<style scoped>\n",
       "    .dataframe tbody tr th:only-of-type {\n",
       "        vertical-align: middle;\n",
       "    }\n",
       "\n",
       "    .dataframe tbody tr th {\n",
       "        vertical-align: top;\n",
       "    }\n",
       "\n",
       "    .dataframe thead th {\n",
       "        text-align: right;\n",
       "    }\n",
       "</style>\n",
       "<table border=\"1\" class=\"dataframe\">\n",
       "  <thead>\n",
       "    <tr style=\"text-align: right;\">\n",
       "      <th></th>\n",
       "      <th>Accuracy</th>\n",
       "      <th>Precision</th>\n",
       "      <th>Recall</th>\n",
       "      <th>F1</th>\n",
       "    </tr>\n",
       "  </thead>\n",
       "  <tbody>\n",
       "    <tr>\n",
       "      <th>train</th>\n",
       "      <td>1.000000</td>\n",
       "      <td>1.00</td>\n",
       "      <td>1.000000</td>\n",
       "      <td>1.000</td>\n",
       "    </tr>\n",
       "    <tr>\n",
       "      <th>test</th>\n",
       "      <td>0.914729</td>\n",
       "      <td>0.25</td>\n",
       "      <td>0.017094</td>\n",
       "      <td>0.032</td>\n",
       "    </tr>\n",
       "  </tbody>\n",
       "</table>\n",
       "</div>"
      ],
      "text/plain": [
       "       Accuracy  Precision    Recall     F1\n",
       "train  1.000000       1.00  1.000000  1.000\n",
       "test   0.914729       0.25  0.017094  0.032"
      ]
     },
     "metadata": {},
     "output_type": "display_data"
    }
   ],
   "source": [
    "evaluate_model(pipe_gradient_boosting, title='Gradient Boosting')"
   ]
  },
  {
   "cell_type": "markdown",
   "metadata": {},
   "source": [
    "<u>Conclusiones</u>:\n",
    "Overfitea"
   ]
  },
  {
   "cell_type": "markdown",
   "metadata": {},
   "source": [
    "### Neural Network"
   ]
  },
  {
   "cell_type": "code",
   "execution_count": 32,
   "metadata": {
    "ExecuteTime": {
     "end_time": "2020-05-21T20:16:46.342002Z",
     "start_time": "2020-05-21T20:16:46.335022Z"
    }
   },
   "outputs": [],
   "source": [
    "def get_neural_network_config():\n",
    "    params = {\n",
    "            'hidden_layer_sizes': [100, 200, 300],\n",
    "            'activation': ['identity', 'logistic', 'tanh', 'relu'],\n",
    "        }\n",
    "    \n",
    "    model = MLPClassifier(random_state=1)\n",
    "    \n",
    "    return model, params"
   ]
  },
  {
   "cell_type": "code",
   "execution_count": 33,
   "metadata": {
    "ExecuteTime": {
     "end_time": "2020-05-21T20:23:44.561524Z",
     "start_time": "2020-05-21T20:16:46.345000Z"
    },
    "collapsed": true
   },
   "outputs": [
    {
     "name": "stdout",
     "output_type": "stream",
     "text": [
      "Fitting 5 folds for each of 12 candidates, totalling 60 fits\n"
     ]
    },
    {
     "name": "stderr",
     "output_type": "stream",
     "text": [
      "[Parallel(n_jobs=1)]: Using backend SequentialBackend with 1 concurrent workers.\n",
      "C:\\Users\\agus_\\Miniconda3\\envs\\venv\\lib\\site-packages\\sklearn\\neural_network\\_multilayer_perceptron.py:571: ConvergenceWarning: Stochastic Optimizer: Maximum iterations (200) reached and the optimization hasn't converged yet.\n",
      "  % self.max_iter, ConvergenceWarning)\n",
      "C:\\Users\\agus_\\Miniconda3\\envs\\venv\\lib\\site-packages\\sklearn\\neural_network\\_multilayer_perceptron.py:571: ConvergenceWarning: Stochastic Optimizer: Maximum iterations (200) reached and the optimization hasn't converged yet.\n",
      "  % self.max_iter, ConvergenceWarning)\n",
      "C:\\Users\\agus_\\Miniconda3\\envs\\venv\\lib\\site-packages\\sklearn\\neural_network\\_multilayer_perceptron.py:571: ConvergenceWarning: Stochastic Optimizer: Maximum iterations (200) reached and the optimization hasn't converged yet.\n",
      "  % self.max_iter, ConvergenceWarning)\n",
      "C:\\Users\\agus_\\Miniconda3\\envs\\venv\\lib\\site-packages\\sklearn\\neural_network\\_multilayer_perceptron.py:571: ConvergenceWarning: Stochastic Optimizer: Maximum iterations (200) reached and the optimization hasn't converged yet.\n",
      "  % self.max_iter, ConvergenceWarning)\n",
      "C:\\Users\\agus_\\Miniconda3\\envs\\venv\\lib\\site-packages\\sklearn\\neural_network\\_multilayer_perceptron.py:571: ConvergenceWarning: Stochastic Optimizer: Maximum iterations (200) reached and the optimization hasn't converged yet.\n",
      "  % self.max_iter, ConvergenceWarning)\n",
      "C:\\Users\\agus_\\Miniconda3\\envs\\venv\\lib\\site-packages\\sklearn\\neural_network\\_multilayer_perceptron.py:571: ConvergenceWarning: Stochastic Optimizer: Maximum iterations (200) reached and the optimization hasn't converged yet.\n",
      "  % self.max_iter, ConvergenceWarning)\n",
      "C:\\Users\\agus_\\Miniconda3\\envs\\venv\\lib\\site-packages\\sklearn\\neural_network\\_multilayer_perceptron.py:571: ConvergenceWarning: Stochastic Optimizer: Maximum iterations (200) reached and the optimization hasn't converged yet.\n",
      "  % self.max_iter, ConvergenceWarning)\n",
      "C:\\Users\\agus_\\Miniconda3\\envs\\venv\\lib\\site-packages\\sklearn\\neural_network\\_multilayer_perceptron.py:571: ConvergenceWarning: Stochastic Optimizer: Maximum iterations (200) reached and the optimization hasn't converged yet.\n",
      "  % self.max_iter, ConvergenceWarning)\n",
      "C:\\Users\\agus_\\Miniconda3\\envs\\venv\\lib\\site-packages\\sklearn\\neural_network\\_multilayer_perceptron.py:571: ConvergenceWarning: Stochastic Optimizer: Maximum iterations (200) reached and the optimization hasn't converged yet.\n",
      "  % self.max_iter, ConvergenceWarning)\n",
      "C:\\Users\\agus_\\Miniconda3\\envs\\venv\\lib\\site-packages\\sklearn\\neural_network\\_multilayer_perceptron.py:571: ConvergenceWarning: Stochastic Optimizer: Maximum iterations (200) reached and the optimization hasn't converged yet.\n",
      "  % self.max_iter, ConvergenceWarning)\n",
      "C:\\Users\\agus_\\Miniconda3\\envs\\venv\\lib\\site-packages\\sklearn\\neural_network\\_multilayer_perceptron.py:571: ConvergenceWarning: Stochastic Optimizer: Maximum iterations (200) reached and the optimization hasn't converged yet.\n",
      "  % self.max_iter, ConvergenceWarning)\n",
      "C:\\Users\\agus_\\Miniconda3\\envs\\venv\\lib\\site-packages\\sklearn\\neural_network\\_multilayer_perceptron.py:571: ConvergenceWarning: Stochastic Optimizer: Maximum iterations (200) reached and the optimization hasn't converged yet.\n",
      "  % self.max_iter, ConvergenceWarning)\n",
      "C:\\Users\\agus_\\Miniconda3\\envs\\venv\\lib\\site-packages\\sklearn\\neural_network\\_multilayer_perceptron.py:571: ConvergenceWarning: Stochastic Optimizer: Maximum iterations (200) reached and the optimization hasn't converged yet.\n",
      "  % self.max_iter, ConvergenceWarning)\n",
      "C:\\Users\\agus_\\Miniconda3\\envs\\venv\\lib\\site-packages\\sklearn\\neural_network\\_multilayer_perceptron.py:571: ConvergenceWarning: Stochastic Optimizer: Maximum iterations (200) reached and the optimization hasn't converged yet.\n",
      "  % self.max_iter, ConvergenceWarning)\n",
      "C:\\Users\\agus_\\Miniconda3\\envs\\venv\\lib\\site-packages\\sklearn\\neural_network\\_multilayer_perceptron.py:571: ConvergenceWarning: Stochastic Optimizer: Maximum iterations (200) reached and the optimization hasn't converged yet.\n",
      "  % self.max_iter, ConvergenceWarning)\n",
      "C:\\Users\\agus_\\Miniconda3\\envs\\venv\\lib\\site-packages\\sklearn\\neural_network\\_multilayer_perceptron.py:571: ConvergenceWarning: Stochastic Optimizer: Maximum iterations (200) reached and the optimization hasn't converged yet.\n",
      "  % self.max_iter, ConvergenceWarning)\n",
      "C:\\Users\\agus_\\Miniconda3\\envs\\venv\\lib\\site-packages\\sklearn\\neural_network\\_multilayer_perceptron.py:571: ConvergenceWarning: Stochastic Optimizer: Maximum iterations (200) reached and the optimization hasn't converged yet.\n",
      "  % self.max_iter, ConvergenceWarning)\n",
      "C:\\Users\\agus_\\Miniconda3\\envs\\venv\\lib\\site-packages\\sklearn\\neural_network\\_multilayer_perceptron.py:571: ConvergenceWarning: Stochastic Optimizer: Maximum iterations (200) reached and the optimization hasn't converged yet.\n",
      "  % self.max_iter, ConvergenceWarning)\n",
      "C:\\Users\\agus_\\Miniconda3\\envs\\venv\\lib\\site-packages\\sklearn\\neural_network\\_multilayer_perceptron.py:571: ConvergenceWarning: Stochastic Optimizer: Maximum iterations (200) reached and the optimization hasn't converged yet.\n",
      "  % self.max_iter, ConvergenceWarning)\n",
      "C:\\Users\\agus_\\Miniconda3\\envs\\venv\\lib\\site-packages\\sklearn\\neural_network\\_multilayer_perceptron.py:571: ConvergenceWarning: Stochastic Optimizer: Maximum iterations (200) reached and the optimization hasn't converged yet.\n",
      "  % self.max_iter, ConvergenceWarning)\n",
      "C:\\Users\\agus_\\Miniconda3\\envs\\venv\\lib\\site-packages\\sklearn\\neural_network\\_multilayer_perceptron.py:571: ConvergenceWarning: Stochastic Optimizer: Maximum iterations (200) reached and the optimization hasn't converged yet.\n",
      "  % self.max_iter, ConvergenceWarning)\n",
      "C:\\Users\\agus_\\Miniconda3\\envs\\venv\\lib\\site-packages\\sklearn\\neural_network\\_multilayer_perceptron.py:571: ConvergenceWarning: Stochastic Optimizer: Maximum iterations (200) reached and the optimization hasn't converged yet.\n",
      "  % self.max_iter, ConvergenceWarning)\n",
      "C:\\Users\\agus_\\Miniconda3\\envs\\venv\\lib\\site-packages\\sklearn\\neural_network\\_multilayer_perceptron.py:571: ConvergenceWarning: Stochastic Optimizer: Maximum iterations (200) reached and the optimization hasn't converged yet.\n",
      "  % self.max_iter, ConvergenceWarning)\n",
      "[Parallel(n_jobs=1)]: Done  60 out of  60 | elapsed:  6.5min finished\n",
      "C:\\Users\\agus_\\Miniconda3\\envs\\venv\\lib\\site-packages\\sklearn\\neural_network\\_multilayer_perceptron.py:571: ConvergenceWarning: Stochastic Optimizer: Maximum iterations (200) reached and the optimization hasn't converged yet.\n",
      "  % self.max_iter, ConvergenceWarning)\n"
     ]
    },
    {
     "data": {
      "text/plain": [
       "Pipeline(memory=None,\n",
       "         steps=[('mapper',\n",
       "                 DataFrameMapper(default=False, df_out=False,\n",
       "                                 features=[(['code_gender'],\n",
       "                                            [OneHotEncoder(cols=[0],\n",
       "                                                           drop_invariant=False,\n",
       "                                                           handle_missing='value',\n",
       "                                                           handle_unknown='value',\n",
       "                                                           return_df=True,\n",
       "                                                           use_cat_names=False,\n",
       "                                                           verbose=0)]),\n",
       "                                           (['flag_own_car'],\n",
       "                                            [OneHotEncoder(cols=[0],\n",
       "                                                           drop_invariant=False,\n",
       "                                                           handle_missing='value',\n",
       "                                                           handle_unknown='v...\n",
       "                                                      nesterovs_momentum=True,\n",
       "                                                      power_t=0.5,\n",
       "                                                      random_state=1,\n",
       "                                                      shuffle=True,\n",
       "                                                      solver='adam', tol=0.0001,\n",
       "                                                      validation_fraction=0.1,\n",
       "                                                      verbose=False,\n",
       "                                                      warm_start=False),\n",
       "                              iid='deprecated', n_jobs=None,\n",
       "                              param_grid={'activation': ['identity', 'logistic',\n",
       "                                                         'tanh', 'relu'],\n",
       "                                          'hidden_layer_sizes': [100, 200,\n",
       "                                                                 300]},\n",
       "                              pre_dispatch='2*n_jobs', refit=True,\n",
       "                              return_train_score=False, scoring='f1',\n",
       "                              verbose=1))],\n",
       "         verbose=False)"
      ]
     },
     "execution_count": 33,
     "metadata": {},
     "output_type": "execute_result"
    }
   ],
   "source": [
    "model, parameters = get_neural_network_config()\n",
    "\n",
    "grid_search_neural_network = GridSearchCV(model, parameters, \n",
    "                                          scoring='f1', verbose=1)\n",
    "\n",
    "pipe_neural_network = Pipeline([\n",
    "    ('mapper', mapper),\n",
    "    ('imputer', IterativeImputer(random_state=1)),\n",
    "    ('classifier', grid_search_neural_network),\n",
    "])\n",
    "\n",
    "pipe_neural_network.fit(train, train.target)"
   ]
  },
  {
   "cell_type": "code",
   "execution_count": 34,
   "metadata": {
    "ExecuteTime": {
     "end_time": "2020-05-21T20:23:44.573492Z",
     "start_time": "2020-05-21T20:23:44.564514Z"
    }
   },
   "outputs": [
    {
     "name": "stdout",
     "output_type": "stream",
     "text": [
      "Mejor score (f1):  0.013170710032880121\n",
      "Mejores parámetros:  {'activation': 'relu', 'hidden_layer_sizes': 300}\n"
     ]
    }
   ],
   "source": [
    "print('Mejor score (f1): ', grid_search_neural_network.best_score_)\n",
    "print('Mejores parámetros: ', grid_search_neural_network.best_params_)"
   ]
  },
  {
   "cell_type": "code",
   "execution_count": 35,
   "metadata": {
    "ExecuteTime": {
     "end_time": "2020-05-21T20:23:44.989380Z",
     "start_time": "2020-05-21T20:23:44.583464Z"
    }
   },
   "outputs": [
    {
     "data": {
      "text/plain": [
       "'Neural Networks'"
      ]
     },
     "metadata": {},
     "output_type": "display_data"
    },
    {
     "data": {
      "text/html": [
       "<div>\n",
       "<style scoped>\n",
       "    .dataframe tbody tr th:only-of-type {\n",
       "        vertical-align: middle;\n",
       "    }\n",
       "\n",
       "    .dataframe tbody tr th {\n",
       "        vertical-align: top;\n",
       "    }\n",
       "\n",
       "    .dataframe thead th {\n",
       "        text-align: right;\n",
       "    }\n",
       "</style>\n",
       "<table border=\"1\" class=\"dataframe\">\n",
       "  <thead>\n",
       "    <tr style=\"text-align: right;\">\n",
       "      <th></th>\n",
       "      <th>Accuracy</th>\n",
       "      <th>Precision</th>\n",
       "      <th>Recall</th>\n",
       "      <th>F1</th>\n",
       "    </tr>\n",
       "  </thead>\n",
       "  <tbody>\n",
       "    <tr>\n",
       "      <th>train</th>\n",
       "      <td>0.926262</td>\n",
       "      <td>0.938462</td>\n",
       "      <td>0.111927</td>\n",
       "      <td>0.200000</td>\n",
       "    </tr>\n",
       "    <tr>\n",
       "      <th>test</th>\n",
       "      <td>0.915433</td>\n",
       "      <td>0.285714</td>\n",
       "      <td>0.017094</td>\n",
       "      <td>0.032258</td>\n",
       "    </tr>\n",
       "  </tbody>\n",
       "</table>\n",
       "</div>"
      ],
      "text/plain": [
       "       Accuracy  Precision    Recall        F1\n",
       "train  0.926262   0.938462  0.111927  0.200000\n",
       "test   0.915433   0.285714  0.017094  0.032258"
      ]
     },
     "metadata": {},
     "output_type": "display_data"
    }
   ],
   "source": [
    "evaluate_model(pipe_neural_network, title='Neural Networks')"
   ]
  },
  {
   "cell_type": "markdown",
   "metadata": {},
   "source": [
    "<u>Conclusiones</u>:\n",
    "* Con estas configs la red neuronal es la que mejor performance tiene en cuanto a precission, logrando un ≈29%\n",
    "* No obstante, recall es de apenas un ≈2%. Esto ultimo nos lleva al razonamiento de que, por ejemplo, si habia 1000 positivos reales en el dataset, solo fue capaz de encontrar a 20, pero para ello, indicó aproximadamente unos 70 casos como deudores (50 de ellos no lo eran).\n",
    "* Este recall tan bajo nos lleva a tener un F1 de apenas 0.03."
   ]
  }
 ],
 "metadata": {
  "kernelspec": {
   "display_name": "Python 3",
   "language": "python",
   "name": "python3"
  },
  "language_info": {
   "codemirror_mode": {
    "name": "ipython",
    "version": 3
   },
   "file_extension": ".py",
   "mimetype": "text/x-python",
   "name": "python",
   "nbconvert_exporter": "python",
   "pygments_lexer": "ipython3",
   "version": "3.7.0"
  },
  "toc": {
   "base_numbering": 1,
   "nav_menu": {},
   "number_sections": true,
   "sideBar": true,
   "skip_h1_title": false,
   "title_cell": "Table of Contents",
   "title_sidebar": "Contents",
   "toc_cell": false,
   "toc_position": {
    "height": "calc(100% - 180px)",
    "left": "10px",
    "top": "150px",
    "width": "384px"
   },
   "toc_section_display": true,
   "toc_window_display": true
  }
 },
 "nbformat": 4,
 "nbformat_minor": 4
}
