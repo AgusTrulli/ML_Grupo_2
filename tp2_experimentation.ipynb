{
 "cells": [
  {
   "cell_type": "markdown",
   "metadata": {},
   "source": [
    "# Setup inicial"
   ]
  },
  {
   "cell_type": "code",
   "execution_count": 61,
   "metadata": {
    "ExecuteTime": {
     "end_time": "2020-05-14T20:57:10.143786Z",
     "start_time": "2020-05-14T20:57:10.125834Z"
    },
    "hide_input": false
   },
   "outputs": [],
   "source": [
    "import numpy as np\n",
    "import pandas as pd\n",
    "from collections import defaultdict\n",
    "\n",
    "%matplotlib inline\n",
    "from matplotlib import pyplot as plt\n",
    "\n",
    "import seaborn as sns\n",
    "\n",
    "from IPython.display import HTML, display\n",
    "from sklearn.metrics import accuracy_score, precision_score, recall_score, confusion_matrix\n",
    "from sklearn.model_selection import train_test_split\n",
    "\n",
    "from sklearn.tree import DecisionTreeClassifier\n",
    "\n",
    "from sklearn.pipeline import Pipeline\n",
    "\n",
    "from sklearn_pandas import DataFrameMapper\n",
    "from sklearn.preprocessing import StandardScaler\n",
    "import category_encoders as ce\n",
    "\n",
    "from src.creditapp.data.raw_data_access import get_application_record"
   ]
  },
  {
   "cell_type": "markdown",
   "metadata": {},
   "source": [
    "# Loading data"
   ]
  },
  {
   "cell_type": "code",
   "execution_count": 62,
   "metadata": {
    "ExecuteTime": {
     "end_time": "2020-05-14T20:57:14.187599Z",
     "start_time": "2020-05-14T20:57:10.407722Z"
    },
    "hide_input": false
   },
   "outputs": [
    {
     "name": "stdout",
     "output_type": "stream",
     "text": [
      "data loading was successfully...\n"
     ]
    }
   ],
   "source": [
    "df_clients = get_application_record()\n",
    "\n",
    "df_clients.drop(['id'], axis=1, inplace=True)\n",
    "\n",
    "print('data loading was successfully...')"
   ]
  },
  {
   "cell_type": "markdown",
   "metadata": {},
   "source": [
    "<img src=\"https://av.sc.com/in/content/images/in-credit-card-banner-1600x490px.jpg\" />\n",
    "\n",
    "# Experiments\n",
    "\n",
    "**Fecha de creación: 13/05/2020**\n",
    "\n",
    "**Autores: Santiago Porchietto, Agustín Trulli**\n",
    "\n",
    "El objetivo del presente cuaderno es la realización de multiples experimentos involucrando modelos de Machine Learning en función de determinar cual es el que mejor funciona para esta problemática en particular.\n",
    "\n",
    "Como se menciona en el análisis anterior, se busca predecir si una persona incurrirá en incumplimiento de sus deudas contraidas mediante tarjeta de crédito. Para esto creamos la columna target (y).\n",
    "\n",
    "Todas las features que quedaron en el dataset (menos el id) posterior al preprocessing serán utilizadas como entradas (X).\n",
    "\n",
    "<u>Metricas a utilizar</u>:\n",
    "\n",
    "* Precission: Para poder determinar que porcentaje de las veces que dijimos positivo acertamos la predicción. Por si sola es insuficiente (Encontramos 2 positivos que realmente lo son (100% de precission), en un dataset que posee 1000 positivos).\n",
    "\n",
    "* Recall: Para complementar precission, nos va a decir el porcentaje de positivos que encontramos por sobre los reales.\n",
    "\n",
    "* F1-Score y AuCRoc: Como métricas que combinan las anteriores.\n",
    "\n",
    "Con nuestro ejemplo en particular, precission es la métrica que más deberíamos mirar, ya que, en función de las políticas que tome el banco contra los deudores, deberíamos estar bastante seguros de que una persona lo es antes de etiquetarla de ello.\n",
    "\n",
    "<u>Modelos a evaluar</u>:\n",
    "\n",
    "* Decission Tree \n",
    "\n",
    "* Random Forest\n",
    "\n",
    "* 3\n",
    "\n",
    "* 4"
   ]
  },
  {
   "cell_type": "markdown",
   "metadata": {
    "hide_input": false
   },
   "source": [
    "## Feature Engineering "
   ]
  },
  {
   "cell_type": "markdown",
   "metadata": {
    "hide_input": false
   },
   "source": [
    "PREGUNTAR POR LOS NULLS DE LOS TRABAJOS (CATEGORICAL)"
   ]
  },
  {
   "cell_type": "markdown",
   "metadata": {
    "ExecuteTime": {
     "end_time": "2020-05-13T18:13:57.104422Z",
     "start_time": "2020-05-13T18:13:57.067004Z"
    }
   },
   "source": [
    "### Income range"
   ]
  },
  {
   "cell_type": "code",
   "execution_count": 63,
   "metadata": {
    "ExecuteTime": {
     "end_time": "2020-05-14T20:57:14.393619Z",
     "start_time": "2020-05-14T20:57:14.190589Z"
    }
   },
   "outputs": [],
   "source": [
    "# parentesis no incluye el término\n",
    "# corchete incluye el término\n",
    "\n",
    "df_clients.loc[::, 'months_employed_range'] = pd.cut(df_clients.months_employed, \n",
    "                                                     list(range(0, 205, 6)), include_lowest='True')\n",
    "\n",
    "df_clients['months_employed_range'] = df_clients['months_employed_range'].astype(str)\n",
    "df_clients.loc[df_clients.months_employed_range == 'nan', 'months_employed_range'] = np.nan\n",
    "df_clients.loc[df_clients.months_employed_range == '(-0.001, 6.0]', 'months_employed_range'] = '[0.0, 6.0]'\n",
    "df_clients.loc[df_clients.months_employed >= 205, 'months_employed_range'] = '(204.0, 524.0]'"
   ]
  },
  {
   "cell_type": "markdown",
   "metadata": {},
   "source": [
    "### Has Childs "
   ]
  },
  {
   "cell_type": "code",
   "execution_count": 64,
   "metadata": {
    "ExecuteTime": {
     "end_time": "2020-05-14T20:57:14.413508Z",
     "start_time": "2020-05-14T20:57:14.396553Z"
    }
   },
   "outputs": [],
   "source": [
    "# Childs\n",
    "df_clients.loc[::, 'has_childs'] = 1\n",
    "df_clients.loc[df_clients.cnt_children == 0, 'has_childs'] = 0"
   ]
  },
  {
   "cell_type": "markdown",
   "metadata": {},
   "source": [
    "### months_employed"
   ]
  },
  {
   "cell_type": "code",
   "execution_count": 65,
   "metadata": {
    "ExecuteTime": {
     "end_time": "2020-05-14T20:57:14.427470Z",
     "start_time": "2020-05-14T20:57:14.419489Z"
    }
   },
   "outputs": [],
   "source": [
    "# Bajo la suposición de que estas personas nunca trabajaron o se encuentran este periodo de tiempo sin trabajar.\n",
    "# Se debería consultar con el \"cliente/banco\", pero tiene sentido.\n",
    "\n",
    "df_clients[\"months_employed\"].fillna(0, inplace = True)"
   ]
  },
  {
   "cell_type": "markdown",
   "metadata": {
    "ExecuteTime": {
     "end_time": "2020-05-13T17:41:25.254740Z",
     "start_time": "2020-05-13T17:41:25.235791Z"
    }
   },
   "source": [
    "## Generating test, train & validation sets "
   ]
  },
  {
   "cell_type": "code",
   "execution_count": 66,
   "metadata": {
    "ExecuteTime": {
     "end_time": "2020-05-14T20:57:14.454397Z",
     "start_time": "2020-05-14T20:57:14.430461Z"
    },
    "hide_input": false
   },
   "outputs": [
    {
     "name": "stdout",
     "output_type": "stream",
     "text": [
      "data generating was successfully...\n"
     ]
    }
   ],
   "source": [
    "# Test, train & validation sets\n",
    "train, not_train = train_test_split(df_clients, test_size=0.3, random_state=1)\n",
    "validation, test = train_test_split(not_train, test_size=0.5, random_state=1)\n",
    "\n",
    "# Train inputs & outputs\n",
    "#y_train = train.target\n",
    "#X_train = train.drop('target', axis=1)\n",
    "\n",
    "# Test inputs & outputs\n",
    "#y_test = test.target\n",
    "#X_test = test.drop('target', axis=1)\n",
    "\n",
    "# Validation inputs & outputs\n",
    "#y_validation = validation.target\n",
    "#X_validation = validation.drop('target', axis=1)\n",
    "\n",
    "print('data generating was successfully...')"
   ]
  },
  {
   "cell_type": "markdown",
   "metadata": {
    "ExecuteTime": {
     "end_time": "2020-05-13T18:41:03.262493Z",
     "start_time": "2020-05-13T18:41:03.198660Z"
    }
   },
   "source": [
    "## Mapper"
   ]
  },
  {
   "cell_type": "code",
   "execution_count": 67,
   "metadata": {
    "ExecuteTime": {
     "end_time": "2020-05-14T20:57:14.471353Z",
     "start_time": "2020-05-14T20:57:14.457388Z"
    }
   },
   "outputs": [],
   "source": [
    "mapper = DataFrameMapper([\n",
    "    (['code_gender'], [ce.OneHotEncoder()]),\n",
    "    (['flag_own_car'], [ce.OneHotEncoder()]),\n",
    "    (['flag_own_realty'], [ce.OneHotEncoder()]),\n",
    "    (['amt_income_total'], [StandardScaler()]),\n",
    "    (['name_income_type'], [ce.WOEEncoder()]),\n",
    "    (['name_education_type'], [ce.WOEEncoder()]),\n",
    "    (['name_family_status'], [ce.WOEEncoder()]),\n",
    "    (['name_housing_type'], [ce.WOEEncoder()]),\n",
    "    (['months_employed'], [StandardScaler()]),\n",
    "    (['occupation_type'], [ce.WOEEncoder()]),\n",
    "    (['months_employed_range'], [ce.WOEEncoder()])\n",
    "])"
   ]
  },
  {
   "cell_type": "markdown",
   "metadata": {
    "ExecuteTime": {
     "end_time": "2020-05-14T18:49:41.080304Z",
     "start_time": "2020-05-14T18:49:41.044385Z"
    }
   },
   "source": [
    "## Decission Tree"
   ]
  },
  {
   "cell_type": "code",
   "execution_count": 68,
   "metadata": {
    "ExecuteTime": {
     "end_time": "2020-05-14T20:57:14.493291Z",
     "start_time": "2020-05-14T20:57:14.480329Z"
    }
   },
   "outputs": [],
   "source": [
    "from sklearn.impute import SimpleImputer\n",
    "from sklearn.metrics import *"
   ]
  },
  {
   "cell_type": "code",
   "execution_count": 76,
   "metadata": {
    "ExecuteTime": {
     "end_time": "2020-05-14T20:59:06.304492Z",
     "start_time": "2020-05-14T20:59:05.820815Z"
    }
   },
   "outputs": [
    {
     "data": {
      "text/plain": [
       "'Decision Tree'"
      ]
     },
     "metadata": {},
     "output_type": "display_data"
    },
    {
     "data": {
      "text/html": [
       "<div>\n",
       "<style scoped>\n",
       "    .dataframe tbody tr th:only-of-type {\n",
       "        vertical-align: middle;\n",
       "    }\n",
       "\n",
       "    .dataframe tbody tr th {\n",
       "        vertical-align: top;\n",
       "    }\n",
       "\n",
       "    .dataframe thead th {\n",
       "        text-align: right;\n",
       "    }\n",
       "</style>\n",
       "<table border=\"1\" class=\"dataframe\">\n",
       "  <thead>\n",
       "    <tr style=\"text-align: right;\">\n",
       "      <th></th>\n",
       "      <th>Accuracy</th>\n",
       "      <th>Precision</th>\n",
       "      <th>Recall</th>\n",
       "      <th>F1</th>\n",
       "    </tr>\n",
       "  </thead>\n",
       "  <tbody>\n",
       "    <tr>\n",
       "      <th>train</th>\n",
       "      <td>0.545784</td>\n",
       "      <td>0.137555</td>\n",
       "      <td>0.856881</td>\n",
       "      <td>0.237056</td>\n",
       "    </tr>\n",
       "    <tr>\n",
       "      <th>test</th>\n",
       "      <td>0.515152</td>\n",
       "      <td>0.106207</td>\n",
       "      <td>0.658120</td>\n",
       "      <td>0.182898</td>\n",
       "    </tr>\n",
       "  </tbody>\n",
       "</table>\n",
       "</div>"
      ],
      "text/plain": [
       "       Accuracy  Precision    Recall        F1\n",
       "train  0.545784   0.137555  0.856881  0.237056\n",
       "test   0.515152   0.106207  0.658120  0.182898"
      ]
     },
     "metadata": {},
     "output_type": "display_data"
    }
   ],
   "source": [
    "tree = DecisionTreeClassifier(random_state=1, \n",
    "                              class_weight=\"balanced\", max_depth=10)\n",
    "\n",
    "pipe = Pipeline([\n",
    "    ('mapper', mapper),\n",
    "    ('imputer', SimpleImputer(strategy='mean')),\n",
    "    ('classifier', tree)\n",
    "])\n",
    "\n",
    "pipe.fit(X_train, y_train)\n",
    "\n",
    "evaluate_model(pipe, title='Decision Tree')"
   ]
  },
  {
   "cell_type": "code",
   "execution_count": null,
   "metadata": {
    "ExecuteTime": {
     "end_time": "2020-05-14T20:59:35.669934Z",
     "start_time": "2020-05-14T20:59:35.660959Z"
    }
   },
   "outputs": [],
   "source": []
  },
  {
   "cell_type": "code",
   "execution_count": null,
   "metadata": {
    "ExecuteTime": {
     "end_time": "2020-05-14T20:59:48.803565Z",
     "start_time": "2020-05-14T20:59:48.795554Z"
    }
   },
   "outputs": [],
   "source": []
  },
  {
   "cell_type": "code",
   "execution_count": null,
   "metadata": {
    "ExecuteTime": {
     "end_time": "2020-05-14T21:00:12.155565Z",
     "start_time": "2020-05-14T21:00:12.148584Z"
    }
   },
   "outputs": [],
   "source": []
  },
  {
   "cell_type": "code",
   "execution_count": 71,
   "metadata": {
    "ExecuteTime": {
     "end_time": "2020-05-14T20:57:20.528529Z",
     "start_time": "2020-05-14T20:57:20.516562Z"
    }
   },
   "outputs": [],
   "source": [
    "def evaluate_model(model, set_names=('train', 'test'), title=''):\n",
    "    if title:\n",
    "        display(title)\n",
    "    final_metrics = defaultdict(list)\n",
    "    \n",
    "    for i, set_name in enumerate(set_names):\n",
    "        assert set_name in ['train', 'test', 'validation']\n",
    "        set_data = globals()[set_name] # <- hack feo...\n",
    "\n",
    "        y = set_data.target\n",
    "        y_pred = model.predict(set_data)\n",
    "        final_metrics['Accuracy'].append(metrics.accuracy_score(y, y_pred))\n",
    "        final_metrics['Precision'].append(metrics.precision_score(y, y_pred))\n",
    "        final_metrics['Recall'].append(metrics.recall_score(y, y_pred))\n",
    "        final_metrics['F1'].append(metrics.f1_score(y, y_pred))\n",
    "\n",
    "    display(pd.DataFrame(final_metrics, index=set_names))"
   ]
  },
  {
   "cell_type": "code",
   "execution_count": null,
   "metadata": {},
   "outputs": [],
   "source": []
  },
  {
   "cell_type": "code",
   "execution_count": 70,
   "metadata": {
    "ExecuteTime": {
     "end_time": "2020-05-14T20:57:18.305121Z",
     "start_time": "2020-05-14T20:57:18.301132Z"
    }
   },
   "outputs": [],
   "source": [
    "from sklearn import metrics"
   ]
  },
  {
   "cell_type": "code",
   "execution_count": null,
   "metadata": {},
   "outputs": [],
   "source": []
  },
  {
   "cell_type": "code",
   "execution_count": null,
   "metadata": {},
   "outputs": [],
   "source": []
  },
  {
   "cell_type": "code",
   "execution_count": null,
   "metadata": {},
   "outputs": [],
   "source": []
  },
  {
   "cell_type": "code",
   "execution_count": null,
   "metadata": {},
   "outputs": [],
   "source": []
  },
  {
   "cell_type": "code",
   "execution_count": null,
   "metadata": {},
   "outputs": [],
   "source": []
  },
  {
   "cell_type": "code",
   "execution_count": null,
   "metadata": {},
   "outputs": [],
   "source": []
  },
  {
   "cell_type": "code",
   "execution_count": null,
   "metadata": {},
   "outputs": [],
   "source": []
  },
  {
   "cell_type": "code",
   "execution_count": null,
   "metadata": {},
   "outputs": [],
   "source": []
  },
  {
   "cell_type": "code",
   "execution_count": null,
   "metadata": {},
   "outputs": [],
   "source": []
  },
  {
   "cell_type": "code",
   "execution_count": null,
   "metadata": {},
   "outputs": [],
   "source": []
  },
  {
   "cell_type": "code",
   "execution_count": null,
   "metadata": {},
   "outputs": [],
   "source": []
  },
  {
   "cell_type": "code",
   "execution_count": null,
   "metadata": {},
   "outputs": [],
   "source": []
  },
  {
   "cell_type": "code",
   "execution_count": 36,
   "metadata": {
    "ExecuteTime": {
     "end_time": "2020-05-14T19:20:16.296035Z",
     "start_time": "2020-05-14T19:20:16.011644Z"
    }
   },
   "outputs": [
    {
     "data": {
      "text/html": [
       "<div>\n",
       "<style scoped>\n",
       "    .dataframe tbody tr th:only-of-type {\n",
       "        vertical-align: middle;\n",
       "    }\n",
       "\n",
       "    .dataframe tbody tr th {\n",
       "        vertical-align: top;\n",
       "    }\n",
       "\n",
       "    .dataframe thead th {\n",
       "        text-align: right;\n",
       "    }\n",
       "</style>\n",
       "<table border=\"1\" class=\"dataframe\">\n",
       "  <thead>\n",
       "    <tr style=\"text-align: right;\">\n",
       "      <th></th>\n",
       "      <th>code_gender</th>\n",
       "      <th>flag_own_car</th>\n",
       "      <th>flag_own_realty</th>\n",
       "      <th>cnt_children</th>\n",
       "      <th>amt_income_total</th>\n",
       "      <th>name_income_type</th>\n",
       "      <th>name_education_type</th>\n",
       "      <th>name_family_status</th>\n",
       "      <th>name_housing_type</th>\n",
       "      <th>months_employed</th>\n",
       "      <th>flag_mobil</th>\n",
       "      <th>flag_work_phone</th>\n",
       "      <th>flag_email</th>\n",
       "      <th>cnt_fam_members</th>\n",
       "      <th>age</th>\n",
       "      <th>flag_phone</th>\n",
       "      <th>occupation_type</th>\n",
       "      <th>target</th>\n",
       "      <th>months_employed_range</th>\n",
       "      <th>has_childs</th>\n",
       "    </tr>\n",
       "  </thead>\n",
       "  <tbody>\n",
       "    <tr>\n",
       "      <th>30511</th>\n",
       "      <td>-0.077672</td>\n",
       "      <td>0.103559</td>\n",
       "      <td>-0.006846</td>\n",
       "      <td>0</td>\n",
       "      <td>81000.0</td>\n",
       "      <td>-0.023125</td>\n",
       "      <td>0.000794</td>\n",
       "      <td>-0.018866</td>\n",
       "      <td>-0.016815</td>\n",
       "      <td>90.0</td>\n",
       "      <td>1</td>\n",
       "      <td>0</td>\n",
       "      <td>0</td>\n",
       "      <td>2.0</td>\n",
       "      <td>30</td>\n",
       "      <td>0</td>\n",
       "      <td>0.206567</td>\n",
       "      <td>0</td>\n",
       "      <td>-0.307942</td>\n",
       "      <td>0</td>\n",
       "    </tr>\n",
       "    <tr>\n",
       "      <th>8042</th>\n",
       "      <td>-0.077672</td>\n",
       "      <td>-0.065516</td>\n",
       "      <td>-0.006846</td>\n",
       "      <td>0</td>\n",
       "      <td>112500.0</td>\n",
       "      <td>0.159541</td>\n",
       "      <td>-0.012880</td>\n",
       "      <td>-0.018866</td>\n",
       "      <td>-0.016815</td>\n",
       "      <td>63.0</td>\n",
       "      <td>1</td>\n",
       "      <td>1</td>\n",
       "      <td>0</td>\n",
       "      <td>2.0</td>\n",
       "      <td>29</td>\n",
       "      <td>0</td>\n",
       "      <td>0.206567</td>\n",
       "      <td>0</td>\n",
       "      <td>0.116077</td>\n",
       "      <td>0</td>\n",
       "    </tr>\n",
       "    <tr>\n",
       "      <th>5538</th>\n",
       "      <td>0.128934</td>\n",
       "      <td>0.103559</td>\n",
       "      <td>-0.006846</td>\n",
       "      <td>0</td>\n",
       "      <td>202500.0</td>\n",
       "      <td>0.159541</td>\n",
       "      <td>-0.012880</td>\n",
       "      <td>-0.018866</td>\n",
       "      <td>-0.016815</td>\n",
       "      <td>43.0</td>\n",
       "      <td>1</td>\n",
       "      <td>0</td>\n",
       "      <td>1</td>\n",
       "      <td>2.0</td>\n",
       "      <td>32</td>\n",
       "      <td>0</td>\n",
       "      <td>0.072717</td>\n",
       "      <td>0</td>\n",
       "      <td>0.465789</td>\n",
       "      <td>0</td>\n",
       "    </tr>\n",
       "    <tr>\n",
       "      <th>28245</th>\n",
       "      <td>0.128934</td>\n",
       "      <td>0.103559</td>\n",
       "      <td>-0.006846</td>\n",
       "      <td>2</td>\n",
       "      <td>135000.0</td>\n",
       "      <td>0.159541</td>\n",
       "      <td>-0.012880</td>\n",
       "      <td>-0.018866</td>\n",
       "      <td>-0.016815</td>\n",
       "      <td>131.0</td>\n",
       "      <td>1</td>\n",
       "      <td>1</td>\n",
       "      <td>0</td>\n",
       "      <td>4.0</td>\n",
       "      <td>40</td>\n",
       "      <td>0</td>\n",
       "      <td>0.072717</td>\n",
       "      <td>0</td>\n",
       "      <td>0.185872</td>\n",
       "      <td>1</td>\n",
       "    </tr>\n",
       "    <tr>\n",
       "      <th>32820</th>\n",
       "      <td>-0.077672</td>\n",
       "      <td>0.103559</td>\n",
       "      <td>0.013532</td>\n",
       "      <td>5</td>\n",
       "      <td>112500.0</td>\n",
       "      <td>0.159541</td>\n",
       "      <td>-0.012880</td>\n",
       "      <td>-0.018866</td>\n",
       "      <td>-0.016815</td>\n",
       "      <td>45.0</td>\n",
       "      <td>1</td>\n",
       "      <td>1</td>\n",
       "      <td>0</td>\n",
       "      <td>7.0</td>\n",
       "      <td>33</td>\n",
       "      <td>0</td>\n",
       "      <td>-0.613740</td>\n",
       "      <td>0</td>\n",
       "      <td>0.465789</td>\n",
       "      <td>1</td>\n",
       "    </tr>\n",
       "  </tbody>\n",
       "</table>\n",
       "</div>"
      ],
      "text/plain": [
       "       code_gender  flag_own_car  flag_own_realty  cnt_children  \\\n",
       "30511    -0.077672      0.103559        -0.006846             0   \n",
       "8042     -0.077672     -0.065516        -0.006846             0   \n",
       "5538      0.128934      0.103559        -0.006846             0   \n",
       "28245     0.128934      0.103559        -0.006846             2   \n",
       "32820    -0.077672      0.103559         0.013532             5   \n",
       "\n",
       "       amt_income_total  name_income_type  name_education_type  \\\n",
       "30511           81000.0         -0.023125             0.000794   \n",
       "8042           112500.0          0.159541            -0.012880   \n",
       "5538           202500.0          0.159541            -0.012880   \n",
       "28245          135000.0          0.159541            -0.012880   \n",
       "32820          112500.0          0.159541            -0.012880   \n",
       "\n",
       "       name_family_status  name_housing_type  months_employed  flag_mobil  \\\n",
       "30511           -0.018866          -0.016815             90.0           1   \n",
       "8042            -0.018866          -0.016815             63.0           1   \n",
       "5538            -0.018866          -0.016815             43.0           1   \n",
       "28245           -0.018866          -0.016815            131.0           1   \n",
       "32820           -0.018866          -0.016815             45.0           1   \n",
       "\n",
       "       flag_work_phone  flag_email  cnt_fam_members  age  flag_phone  \\\n",
       "30511                0           0              2.0   30           0   \n",
       "8042                 1           0              2.0   29           0   \n",
       "5538                 0           1              2.0   32           0   \n",
       "28245                1           0              4.0   40           0   \n",
       "32820                1           0              7.0   33           0   \n",
       "\n",
       "       occupation_type  target  months_employed_range  has_childs  \n",
       "30511         0.206567       0              -0.307942           0  \n",
       "8042          0.206567       0               0.116077           0  \n",
       "5538          0.072717       0               0.465789           0  \n",
       "28245         0.072717       0               0.185872           1  \n",
       "32820        -0.613740       0               0.465789           1  "
      ]
     },
     "execution_count": 36,
     "metadata": {},
     "output_type": "execute_result"
    }
   ],
   "source": [
    "encoder = ce.WOEEncoder()\n",
    "encoder.fit(train, train.target)\n",
    "\n",
    "train_WOEEncoder = encoder.transform(train)\n",
    "train_WOEEncoder.head(5)"
   ]
  },
  {
   "cell_type": "code",
   "execution_count": 49,
   "metadata": {
    "ExecuteTime": {
     "end_time": "2020-05-14T19:35:47.134330Z",
     "start_time": "2020-05-14T19:35:47.076454Z"
    }
   },
   "outputs": [
    {
     "data": {
      "text/html": [
       "<div>\n",
       "<style scoped>\n",
       "    .dataframe tbody tr th:only-of-type {\n",
       "        vertical-align: middle;\n",
       "    }\n",
       "\n",
       "    .dataframe tbody tr th {\n",
       "        vertical-align: top;\n",
       "    }\n",
       "\n",
       "    .dataframe thead th {\n",
       "        text-align: right;\n",
       "    }\n",
       "</style>\n",
       "<table border=\"1\" class=\"dataframe\">\n",
       "  <thead>\n",
       "    <tr style=\"text-align: right;\">\n",
       "      <th></th>\n",
       "      <th>code_gender</th>\n",
       "      <th>flag_own_car</th>\n",
       "      <th>flag_own_realty</th>\n",
       "      <th>cnt_children</th>\n",
       "      <th>amt_income_total</th>\n",
       "      <th>name_income_type</th>\n",
       "      <th>name_education_type</th>\n",
       "      <th>name_family_status</th>\n",
       "      <th>name_housing_type</th>\n",
       "      <th>months_employed</th>\n",
       "      <th>flag_mobil</th>\n",
       "      <th>flag_work_phone</th>\n",
       "      <th>flag_email</th>\n",
       "      <th>cnt_fam_members</th>\n",
       "      <th>age</th>\n",
       "      <th>flag_phone</th>\n",
       "      <th>occupation_type</th>\n",
       "      <th>target</th>\n",
       "      <th>months_employed_range</th>\n",
       "      <th>has_childs</th>\n",
       "    </tr>\n",
       "  </thead>\n",
       "  <tbody>\n",
       "    <tr>\n",
       "      <th>32820</th>\n",
       "      <td>F</td>\n",
       "      <td>Y</td>\n",
       "      <td>N</td>\n",
       "      <td>5</td>\n",
       "      <td>112500.0</td>\n",
       "      <td>Working</td>\n",
       "      <td>Secondary / secondary special</td>\n",
       "      <td>Married</td>\n",
       "      <td>House / apartment</td>\n",
       "      <td>45.0</td>\n",
       "      <td>1</td>\n",
       "      <td>1</td>\n",
       "      <td>0</td>\n",
       "      <td>7.0</td>\n",
       "      <td>33</td>\n",
       "      <td>0</td>\n",
       "      <td>NaN</td>\n",
       "      <td>0</td>\n",
       "      <td>(42.0, 48.0]</td>\n",
       "      <td>1</td>\n",
       "    </tr>\n",
       "    <tr>\n",
       "      <th>19881</th>\n",
       "      <td>F</td>\n",
       "      <td>N</td>\n",
       "      <td>Y</td>\n",
       "      <td>0</td>\n",
       "      <td>67500.0</td>\n",
       "      <td>Pensioner</td>\n",
       "      <td>Secondary / secondary special</td>\n",
       "      <td>Single / not married</td>\n",
       "      <td>House / apartment</td>\n",
       "      <td>NaN</td>\n",
       "      <td>1</td>\n",
       "      <td>0</td>\n",
       "      <td>0</td>\n",
       "      <td>1.0</td>\n",
       "      <td>51</td>\n",
       "      <td>0</td>\n",
       "      <td>NaN</td>\n",
       "      <td>0</td>\n",
       "      <td>NaN</td>\n",
       "      <td>0</td>\n",
       "    </tr>\n",
       "    <tr>\n",
       "      <th>15577</th>\n",
       "      <td>M</td>\n",
       "      <td>Y</td>\n",
       "      <td>Y</td>\n",
       "      <td>0</td>\n",
       "      <td>112500.0</td>\n",
       "      <td>Working</td>\n",
       "      <td>Secondary / secondary special</td>\n",
       "      <td>Single / not married</td>\n",
       "      <td>House / apartment</td>\n",
       "      <td>7.0</td>\n",
       "      <td>1</td>\n",
       "      <td>0</td>\n",
       "      <td>1</td>\n",
       "      <td>1.0</td>\n",
       "      <td>23</td>\n",
       "      <td>0</td>\n",
       "      <td>NaN</td>\n",
       "      <td>0</td>\n",
       "      <td>(6.0, 12.0]</td>\n",
       "      <td>0</td>\n",
       "    </tr>\n",
       "  </tbody>\n",
       "</table>\n",
       "</div>"
      ],
      "text/plain": [
       "      code_gender flag_own_car flag_own_realty  cnt_children  \\\n",
       "32820           F            Y               N             5   \n",
       "19881           F            N               Y             0   \n",
       "15577           M            Y               Y             0   \n",
       "\n",
       "       amt_income_total name_income_type            name_education_type  \\\n",
       "32820          112500.0          Working  Secondary / secondary special   \n",
       "19881           67500.0        Pensioner  Secondary / secondary special   \n",
       "15577          112500.0          Working  Secondary / secondary special   \n",
       "\n",
       "         name_family_status  name_housing_type  months_employed  flag_mobil  \\\n",
       "32820               Married  House / apartment             45.0           1   \n",
       "19881  Single / not married  House / apartment              NaN           1   \n",
       "15577  Single / not married  House / apartment              7.0           1   \n",
       "\n",
       "       flag_work_phone  flag_email  cnt_fam_members  age  flag_phone  \\\n",
       "32820                1           0              7.0   33           0   \n",
       "19881                0           0              1.0   51           0   \n",
       "15577                0           1              1.0   23           0   \n",
       "\n",
       "      occupation_type  target months_employed_range  has_childs  \n",
       "32820             NaN       0          (42.0, 48.0]           1  \n",
       "19881             NaN       0                   NaN           0  \n",
       "15577             NaN       0           (6.0, 12.0]           0  "
      ]
     },
     "execution_count": 49,
     "metadata": {},
     "output_type": "execute_result"
    }
   ],
   "source": [
    "train[train.occupation_type.isnull()].head(3)"
   ]
  },
  {
   "cell_type": "markdown",
   "metadata": {},
   "source": [
    "Inputa nulls con el valor mas negativo (el mas useless para predecir)"
   ]
  },
  {
   "cell_type": "code",
   "execution_count": 52,
   "metadata": {
    "ExecuteTime": {
     "end_time": "2020-05-14T19:38:04.383135Z",
     "start_time": "2020-05-14T19:38:04.350225Z"
    }
   },
   "outputs": [
    {
     "data": {
      "text/html": [
       "<div>\n",
       "<style scoped>\n",
       "    .dataframe tbody tr th:only-of-type {\n",
       "        vertical-align: middle;\n",
       "    }\n",
       "\n",
       "    .dataframe tbody tr th {\n",
       "        vertical-align: top;\n",
       "    }\n",
       "\n",
       "    .dataframe thead th {\n",
       "        text-align: right;\n",
       "    }\n",
       "</style>\n",
       "<table border=\"1\" class=\"dataframe\">\n",
       "  <thead>\n",
       "    <tr style=\"text-align: right;\">\n",
       "      <th></th>\n",
       "      <th>code_gender</th>\n",
       "      <th>flag_own_car</th>\n",
       "      <th>flag_own_realty</th>\n",
       "      <th>cnt_children</th>\n",
       "      <th>amt_income_total</th>\n",
       "      <th>name_income_type</th>\n",
       "      <th>name_education_type</th>\n",
       "      <th>name_family_status</th>\n",
       "      <th>name_housing_type</th>\n",
       "      <th>months_employed</th>\n",
       "      <th>flag_mobil</th>\n",
       "      <th>flag_work_phone</th>\n",
       "      <th>flag_email</th>\n",
       "      <th>cnt_fam_members</th>\n",
       "      <th>age</th>\n",
       "      <th>flag_phone</th>\n",
       "      <th>occupation_type</th>\n",
       "      <th>target</th>\n",
       "      <th>months_employed_range</th>\n",
       "      <th>has_childs</th>\n",
       "    </tr>\n",
       "  </thead>\n",
       "  <tbody>\n",
       "    <tr>\n",
       "      <th>15577</th>\n",
       "      <td>0.128934</td>\n",
       "      <td>0.103559</td>\n",
       "      <td>-0.006846</td>\n",
       "      <td>0</td>\n",
       "      <td>112500.0</td>\n",
       "      <td>0.159541</td>\n",
       "      <td>-0.01288</td>\n",
       "      <td>0.323385</td>\n",
       "      <td>-0.016815</td>\n",
       "      <td>7.0</td>\n",
       "      <td>1</td>\n",
       "      <td>0</td>\n",
       "      <td>1</td>\n",
       "      <td>1.0</td>\n",
       "      <td>23</td>\n",
       "      <td>0</td>\n",
       "      <td>-0.61374</td>\n",
       "      <td>0</td>\n",
       "      <td>0.377318</td>\n",
       "      <td>0</td>\n",
       "    </tr>\n",
       "  </tbody>\n",
       "</table>\n",
       "</div>"
      ],
      "text/plain": [
       "       code_gender  flag_own_car  flag_own_realty  cnt_children  \\\n",
       "15577     0.128934      0.103559        -0.006846             0   \n",
       "\n",
       "       amt_income_total  name_income_type  name_education_type  \\\n",
       "15577          112500.0          0.159541             -0.01288   \n",
       "\n",
       "       name_family_status  name_housing_type  months_employed  flag_mobil  \\\n",
       "15577            0.323385          -0.016815              7.0           1   \n",
       "\n",
       "       flag_work_phone  flag_email  cnt_fam_members  age  flag_phone  \\\n",
       "15577                0           1              1.0   23           0   \n",
       "\n",
       "       occupation_type  target  months_employed_range  has_childs  \n",
       "15577         -0.61374       0               0.377318           0  "
      ]
     },
     "execution_count": 52,
     "metadata": {},
     "output_type": "execute_result"
    }
   ],
   "source": [
    "train_WOEEncoder[train_WOEEncoder.index == 15577]"
   ]
  },
  {
   "cell_type": "code",
   "execution_count": 56,
   "metadata": {
    "ExecuteTime": {
     "end_time": "2020-05-14T19:39:35.005818Z",
     "start_time": "2020-05-14T19:39:34.997828Z"
    }
   },
   "outputs": [
    {
     "data": {
      "text/plain": [
       "-0.6137401712381046"
      ]
     },
     "execution_count": 56,
     "metadata": {},
     "output_type": "execute_result"
    }
   ],
   "source": [
    "train_WOEEncoder.occupation_type.min()"
   ]
  },
  {
   "cell_type": "code",
   "execution_count": null,
   "metadata": {},
   "outputs": [],
   "source": []
  },
  {
   "cell_type": "code",
   "execution_count": null,
   "metadata": {},
   "outputs": [],
   "source": []
  },
  {
   "cell_type": "code",
   "execution_count": null,
   "metadata": {},
   "outputs": [],
   "source": []
  },
  {
   "cell_type": "code",
   "execution_count": 42,
   "metadata": {
    "ExecuteTime": {
     "end_time": "2020-05-14T19:33:42.890797Z",
     "start_time": "2020-05-14T19:33:42.876833Z"
    }
   },
   "outputs": [
    {
     "data": {
      "text/plain": [
       "0.046012    1956\n",
       "0.087603    1210\n",
       "0.104135     653\n",
       "0.098333     600\n",
       "0.089286     560\n",
       "0.104513     421\n",
       "0.103053     262\n",
       "0.076555     209\n",
       "0.117347     196\n",
       "0.149254     134\n",
       "0.117188     128\n",
       "0.094737      95\n",
       "0.049180      61\n",
       "0.153846      39\n",
       "0.037037      27\n",
       "0.083333      24\n",
       "0.111111      18\n",
       "0.200000      15\n",
       "0.100000      10\n",
       "Name: occupation_type, dtype: int64"
      ]
     },
     "execution_count": 42,
     "metadata": {},
     "output_type": "execute_result"
    }
   ],
   "source": [
    "train_leaveOneOutEnc.occupation_type.value_counts()"
   ]
  },
  {
   "cell_type": "markdown",
   "metadata": {
    "hide_input": true
   },
   "source": [
    "<img src=https://miro.medium.com/max/578/1*5S_5aAHWe0_knDGZUK3W8w.png width=\"300\" height=\"200\">"
   ]
  },
  {
   "cell_type": "code",
   "execution_count": 38,
   "metadata": {
    "ExecuteTime": {
     "end_time": "2020-05-14T19:20:20.687550Z",
     "start_time": "2020-05-14T19:20:20.675612Z"
    }
   },
   "outputs": [
    {
     "data": {
      "text/plain": [
       "Secondary / secondary special    4555\n",
       "Higher education                 1740\n",
       "Incomplete higher                 241\n",
       "Lower secondary                    79\n",
       "Academic degree                     3\n",
       "Name: name_education_type, dtype: int64"
      ]
     },
     "execution_count": 38,
     "metadata": {},
     "output_type": "execute_result"
    }
   ],
   "source": [
    "train.name_education_type.value_counts()"
   ]
  },
  {
   "cell_type": "code",
   "execution_count": 33,
   "metadata": {
    "ExecuteTime": {
     "end_time": "2020-05-14T19:14:07.888355Z",
     "start_time": "2020-05-14T19:14:07.845478Z"
    }
   },
   "outputs": [
    {
     "data": {
      "text/html": [
       "<div>\n",
       "<style scoped>\n",
       "    .dataframe tbody tr th:only-of-type {\n",
       "        vertical-align: middle;\n",
       "    }\n",
       "\n",
       "    .dataframe tbody tr th {\n",
       "        vertical-align: top;\n",
       "    }\n",
       "\n",
       "    .dataframe thead th {\n",
       "        text-align: right;\n",
       "    }\n",
       "</style>\n",
       "<table border=\"1\" class=\"dataframe\">\n",
       "  <thead>\n",
       "    <tr style=\"text-align: right;\">\n",
       "      <th></th>\n",
       "      <th>code_gender</th>\n",
       "      <th>flag_own_car</th>\n",
       "      <th>flag_own_realty</th>\n",
       "      <th>cnt_children</th>\n",
       "      <th>amt_income_total</th>\n",
       "      <th>name_income_type</th>\n",
       "      <th>name_education_type</th>\n",
       "      <th>name_family_status</th>\n",
       "      <th>name_housing_type</th>\n",
       "      <th>months_employed</th>\n",
       "      <th>flag_mobil</th>\n",
       "      <th>flag_work_phone</th>\n",
       "      <th>flag_email</th>\n",
       "      <th>cnt_fam_members</th>\n",
       "      <th>age</th>\n",
       "      <th>flag_phone</th>\n",
       "      <th>occupation_type</th>\n",
       "      <th>target</th>\n",
       "      <th>months_employed_range</th>\n",
       "      <th>has_childs</th>\n",
       "    </tr>\n",
       "  </thead>\n",
       "  <tbody>\n",
       "    <tr>\n",
       "      <th>17326</th>\n",
       "      <td>F</td>\n",
       "      <td>N</td>\n",
       "      <td>Y</td>\n",
       "      <td>1</td>\n",
       "      <td>337500.0</td>\n",
       "      <td>Working</td>\n",
       "      <td>Academic degree</td>\n",
       "      <td>Single / not married</td>\n",
       "      <td>House / apartment</td>\n",
       "      <td>92.0</td>\n",
       "      <td>1</td>\n",
       "      <td>0</td>\n",
       "      <td>0</td>\n",
       "      <td>2.0</td>\n",
       "      <td>34</td>\n",
       "      <td>0</td>\n",
       "      <td>NaN</td>\n",
       "      <td>0</td>\n",
       "      <td>(90.0, 96.0]</td>\n",
       "      <td>1</td>\n",
       "    </tr>\n",
       "    <tr>\n",
       "      <th>21308</th>\n",
       "      <td>F</td>\n",
       "      <td>Y</td>\n",
       "      <td>Y</td>\n",
       "      <td>0</td>\n",
       "      <td>450000.0</td>\n",
       "      <td>Pensioner</td>\n",
       "      <td>Academic degree</td>\n",
       "      <td>Civil marriage</td>\n",
       "      <td>House / apartment</td>\n",
       "      <td>NaN</td>\n",
       "      <td>1</td>\n",
       "      <td>0</td>\n",
       "      <td>0</td>\n",
       "      <td>2.0</td>\n",
       "      <td>59</td>\n",
       "      <td>1</td>\n",
       "      <td>NaN</td>\n",
       "      <td>0</td>\n",
       "      <td>NaN</td>\n",
       "      <td>0</td>\n",
       "    </tr>\n",
       "    <tr>\n",
       "      <th>11797</th>\n",
       "      <td>F</td>\n",
       "      <td>Y</td>\n",
       "      <td>Y</td>\n",
       "      <td>1</td>\n",
       "      <td>270000.0</td>\n",
       "      <td>Commercial associate</td>\n",
       "      <td>Academic degree</td>\n",
       "      <td>Married</td>\n",
       "      <td>House / apartment</td>\n",
       "      <td>33.0</td>\n",
       "      <td>1</td>\n",
       "      <td>0</td>\n",
       "      <td>0</td>\n",
       "      <td>3.0</td>\n",
       "      <td>33</td>\n",
       "      <td>0</td>\n",
       "      <td>Sales staff</td>\n",
       "      <td>0</td>\n",
       "      <td>(30.0, 36.0]</td>\n",
       "      <td>1</td>\n",
       "    </tr>\n",
       "  </tbody>\n",
       "</table>\n",
       "</div>"
      ],
      "text/plain": [
       "      code_gender flag_own_car flag_own_realty  cnt_children  \\\n",
       "17326           F            N               Y             1   \n",
       "21308           F            Y               Y             0   \n",
       "11797           F            Y               Y             1   \n",
       "\n",
       "       amt_income_total      name_income_type name_education_type  \\\n",
       "17326          337500.0               Working     Academic degree   \n",
       "21308          450000.0             Pensioner     Academic degree   \n",
       "11797          270000.0  Commercial associate     Academic degree   \n",
       "\n",
       "         name_family_status  name_housing_type  months_employed  flag_mobil  \\\n",
       "17326  Single / not married  House / apartment             92.0           1   \n",
       "21308        Civil marriage  House / apartment              NaN           1   \n",
       "11797               Married  House / apartment             33.0           1   \n",
       "\n",
       "       flag_work_phone  flag_email  cnt_fam_members  age  flag_phone  \\\n",
       "17326                0           0              2.0   34           0   \n",
       "21308                0           0              2.0   59           1   \n",
       "11797                0           0              3.0   33           0   \n",
       "\n",
       "      occupation_type  target months_employed_range  has_childs  \n",
       "17326             NaN       0          (90.0, 96.0]           1  \n",
       "21308             NaN       0                   NaN           0  \n",
       "11797     Sales staff       0          (30.0, 36.0]           1  "
      ]
     },
     "execution_count": 33,
     "metadata": {},
     "output_type": "execute_result"
    }
   ],
   "source": [
    "train[train.name_education_type == 'Academic degree']"
   ]
  },
  {
   "cell_type": "code",
   "execution_count": null,
   "metadata": {
    "ExecuteTime": {
     "end_time": "2020-05-14T19:23:19.335611Z",
     "start_time": "2020-05-14T19:23:19.327633Z"
    }
   },
   "outputs": [],
   "source": []
  },
  {
   "cell_type": "code",
   "execution_count": null,
   "metadata": {},
   "outputs": [],
   "source": []
  },
  {
   "cell_type": "code",
   "execution_count": null,
   "metadata": {},
   "outputs": [],
   "source": []
  },
  {
   "cell_type": "code",
   "execution_count": null,
   "metadata": {},
   "outputs": [],
   "source": []
  },
  {
   "cell_type": "code",
   "execution_count": null,
   "metadata": {},
   "outputs": [],
   "source": []
  }
 ],
 "metadata": {
  "kernelspec": {
   "display_name": "Python 3",
   "language": "python",
   "name": "python3"
  },
  "language_info": {
   "codemirror_mode": {
    "name": "ipython",
    "version": 3
   },
   "file_extension": ".py",
   "mimetype": "text/x-python",
   "name": "python",
   "nbconvert_exporter": "python",
   "pygments_lexer": "ipython3",
   "version": "3.7.0"
  },
  "toc": {
   "base_numbering": 1,
   "nav_menu": {},
   "number_sections": true,
   "sideBar": true,
   "skip_h1_title": false,
   "title_cell": "Table of Contents",
   "title_sidebar": "Contents",
   "toc_cell": false,
   "toc_position": {},
   "toc_section_display": true,
   "toc_window_display": false
  }
 },
 "nbformat": 4,
 "nbformat_minor": 4
}
