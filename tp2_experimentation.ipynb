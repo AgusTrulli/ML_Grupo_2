{
 "cells": [
  {
   "cell_type": "markdown",
   "metadata": {},
   "source": [
    "# Setup inicial"
   ]
  },
  {
   "cell_type": "code",
   "execution_count": 3,
   "metadata": {
    "ExecuteTime": {
     "end_time": "2020-05-13T17:28:06.325041Z",
     "start_time": "2020-05-13T17:28:06.285159Z"
    },
    "hide_input": true
   },
   "outputs": [],
   "source": [
    "import numpy as np\n",
    "import pandas as pd\n",
    "from collections import defaultdict\n",
    "\n",
    "%matplotlib inline\n",
    "from matplotlib import pyplot as plt\n",
    "\n",
    "import seaborn as sns\n",
    "\n",
    "from IPython.display import HTML, display\n",
    "from sklearn.metrics import accuracy_score, precision_score, recall_score, confusion_matrix\n",
    "from sklearn.model_selection import train_test_split\n",
    "\n",
    "from sklearn_pandas import DataFrameMapper\n",
    "\n",
    "from src.creditapp.data.raw_data_access import get_application_record"
   ]
  },
  {
   "cell_type": "markdown",
   "metadata": {},
   "source": [
    "# Loading data"
   ]
  },
  {
   "cell_type": "code",
   "execution_count": 29,
   "metadata": {
    "ExecuteTime": {
     "end_time": "2020-05-13T18:13:50.144319Z",
     "start_time": "2020-05-13T18:13:46.324190Z"
    },
    "hide_input": true
   },
   "outputs": [
    {
     "name": "stdout",
     "output_type": "stream",
     "text": [
      "data loading was successfully...\n"
     ]
    }
   ],
   "source": [
    "df_clients = get_application_record()\n",
    "\n",
    "df_clients.drop(['id'], axis=1, inplace=True)\n",
    "\n",
    "print('data loading was successfully...')"
   ]
  },
  {
   "cell_type": "markdown",
   "metadata": {},
   "source": [
    "<img src=\"https://av.sc.com/in/content/images/in-credit-card-banner-1600x490px.jpg\" />\n",
    "\n",
    "# Experiments\n",
    "\n",
    "**Fecha de creación: 13/05/2020**\n",
    "\n",
    "**Autores: Santiago Porchietto, Agustín Trulli**\n",
    "\n",
    "El objetivo del presente cuaderno es la realización de multiples experimentos involucrando modelos de Machine Learning en función de determinar cual es el que mejor funciona para esta problemática en particular.\n",
    "\n",
    "Como se menciona en el análisis anterior, se busca predecir si una persona incurrirá en incumplimiento de sus deudas contraidas mediante tarjeta de crédito. Para esto creamos la columna target (y).\n",
    "\n",
    "Todas las features que quedaron en el dataset (menos el id) posterior al preprocessing serán utilizadas como entradas (X).\n",
    "\n",
    "<u>Metricas a utilizar</u>:\n",
    "\n",
    "* Precission: Para poder determinar que porcentaje de las veces que dijimos positivo acertamos la predicción. Por si sola es insuficiente (Encontramos 2 positivos que realmente lo son (100% de precission), en un dataset que posee 1000 positivos).\n",
    "\n",
    "* Recall: Para complementar precission, nos va a decir el porcentaje de positivos que encontramos por sobre los reales.\n",
    "\n",
    "* F1-Score y AuCRoc: Como métricas que combinan las anteriores.\n",
    "\n",
    "Con nuestro ejemplo en particular, precission es la métrica que más deberíamos mirar, ya que, en función de las políticas que tome el banco contra los deudores, deberíamos estar bastante seguros de que una persona lo es antes de etiquetarla de ello.\n",
    "\n",
    "<u>Modelos a evaluar</u>:\n",
    "\n",
    "* Decission Tree \n",
    "\n",
    "* Random Forest\n",
    "\n",
    "* 3\n",
    "\n",
    "* 4"
   ]
  },
  {
   "cell_type": "markdown",
   "metadata": {
    "hide_input": false
   },
   "source": [
    "## Feature Engineering "
   ]
  },
  {
   "cell_type": "markdown",
   "metadata": {},
   "source": [
    "PREGUNTAR POR LOS NULLS DE LOS TRABAJOS (CATEGORICAL)"
   ]
  },
  {
   "cell_type": "markdown",
   "metadata": {
    "ExecuteTime": {
     "end_time": "2020-05-13T18:13:57.104422Z",
     "start_time": "2020-05-13T18:13:57.067004Z"
    }
   },
   "source": [
    "### Income range"
   ]
  },
  {
   "cell_type": "code",
   "execution_count": 33,
   "metadata": {
    "ExecuteTime": {
     "end_time": "2020-05-13T18:40:53.089027Z",
     "start_time": "2020-05-13T18:40:52.938804Z"
    }
   },
   "outputs": [],
   "source": [
    "# parentesis no incluye el término\n",
    "# corchete incluye el término\n",
    "\n",
    "df_clients.loc[::, 'months_employed_range'] = pd.cut(df_clients.months_employed, \n",
    "                                                     list(range(0, 205, 6)), include_lowest='True')\n",
    "\n",
    "df_clients['months_employed_range'] = df_clients['months_employed_range'].astype(str)\n",
    "df_clients.loc[df_clients.months_employed_range == 'nan', 'months_employed_range'] = np.nan\n",
    "df_clients.loc[df_clients.months_employed_range == '(-0.001, 6.0]', 'months_employed_range'] = '[0.0, 6.0]'\n",
    "df_clients.loc[df_clients.months_employed >= 205, 'months_employed_range'] = '(204.0, 524.0]'"
   ]
  },
  {
   "cell_type": "markdown",
   "metadata": {},
   "source": [
    "### Has Childs "
   ]
  },
  {
   "cell_type": "code",
   "execution_count": 37,
   "metadata": {
    "ExecuteTime": {
     "end_time": "2020-05-13T18:46:27.141680Z",
     "start_time": "2020-05-13T18:46:27.123729Z"
    }
   },
   "outputs": [],
   "source": [
    "# Childs\n",
    "df_clients.loc[::, 'has_childs'] = 1\n",
    "df_clients.loc[df_clients.cnt_children == 0, 'has_childs'] = 0"
   ]
  },
  {
   "cell_type": "code",
   "execution_count": null,
   "metadata": {
    "ExecuteTime": {
     "end_time": "2020-05-13T18:41:52.234406Z",
     "start_time": "2020-05-13T18:41:52.203489Z"
    }
   },
   "outputs": [],
   "source": [
    "occupation_type, name_housing_type, name_family_status, name_education_type, name_income_type"
   ]
  },
  {
   "cell_type": "code",
   "execution_count": 38,
   "metadata": {
    "ExecuteTime": {
     "end_time": "2020-05-13T18:46:43.526723Z",
     "start_time": "2020-05-13T18:46:43.491817Z"
    }
   },
   "outputs": [
    {
     "data": {
      "text/html": [
       "<div>\n",
       "<style scoped>\n",
       "    .dataframe tbody tr th:only-of-type {\n",
       "        vertical-align: middle;\n",
       "    }\n",
       "\n",
       "    .dataframe tbody tr th {\n",
       "        vertical-align: top;\n",
       "    }\n",
       "\n",
       "    .dataframe thead th {\n",
       "        text-align: right;\n",
       "    }\n",
       "</style>\n",
       "<table border=\"1\" class=\"dataframe\">\n",
       "  <thead>\n",
       "    <tr style=\"text-align: right;\">\n",
       "      <th></th>\n",
       "      <th>code_gender</th>\n",
       "      <th>flag_own_car</th>\n",
       "      <th>flag_own_realty</th>\n",
       "      <th>cnt_children</th>\n",
       "      <th>amt_income_total</th>\n",
       "      <th>name_income_type</th>\n",
       "      <th>name_education_type</th>\n",
       "      <th>name_family_status</th>\n",
       "      <th>name_housing_type</th>\n",
       "      <th>months_employed</th>\n",
       "      <th>flag_mobil</th>\n",
       "      <th>flag_work_phone</th>\n",
       "      <th>flag_email</th>\n",
       "      <th>cnt_fam_members</th>\n",
       "      <th>age</th>\n",
       "      <th>flag_phone</th>\n",
       "      <th>occupation_type</th>\n",
       "      <th>target</th>\n",
       "      <th>months_employed_range</th>\n",
       "      <th>has_childs</th>\n",
       "    </tr>\n",
       "  </thead>\n",
       "  <tbody>\n",
       "    <tr>\n",
       "      <th>0</th>\n",
       "      <td>M</td>\n",
       "      <td>Y</td>\n",
       "      <td>Y</td>\n",
       "      <td>0</td>\n",
       "      <td>427500.0</td>\n",
       "      <td>Working</td>\n",
       "      <td>Higher education</td>\n",
       "      <td>Civil marriage</td>\n",
       "      <td>Rented apartment</td>\n",
       "      <td>151.0</td>\n",
       "      <td>1</td>\n",
       "      <td>1</td>\n",
       "      <td>0</td>\n",
       "      <td>2.0</td>\n",
       "      <td>32</td>\n",
       "      <td>0</td>\n",
       "      <td>NaN</td>\n",
       "      <td>0</td>\n",
       "      <td>(150.0, 156.0]</td>\n",
       "      <td>0</td>\n",
       "    </tr>\n",
       "    <tr>\n",
       "      <th>2</th>\n",
       "      <td>M</td>\n",
       "      <td>Y</td>\n",
       "      <td>Y</td>\n",
       "      <td>0</td>\n",
       "      <td>112500.0</td>\n",
       "      <td>Working</td>\n",
       "      <td>Secondary / secondary special</td>\n",
       "      <td>Married</td>\n",
       "      <td>House / apartment</td>\n",
       "      <td>38.0</td>\n",
       "      <td>1</td>\n",
       "      <td>0</td>\n",
       "      <td>0</td>\n",
       "      <td>2.0</td>\n",
       "      <td>58</td>\n",
       "      <td>0</td>\n",
       "      <td>Security staff</td>\n",
       "      <td>0</td>\n",
       "      <td>(36.0, 42.0]</td>\n",
       "      <td>0</td>\n",
       "    </tr>\n",
       "    <tr>\n",
       "      <th>3</th>\n",
       "      <td>F</td>\n",
       "      <td>N</td>\n",
       "      <td>Y</td>\n",
       "      <td>0</td>\n",
       "      <td>270000.0</td>\n",
       "      <td>Commercial associate</td>\n",
       "      <td>Secondary / secondary special</td>\n",
       "      <td>Single / not married</td>\n",
       "      <td>House / apartment</td>\n",
       "      <td>102.0</td>\n",
       "      <td>1</td>\n",
       "      <td>0</td>\n",
       "      <td>1</td>\n",
       "      <td>1.0</td>\n",
       "      <td>52</td>\n",
       "      <td>1</td>\n",
       "      <td>Sales staff</td>\n",
       "      <td>0</td>\n",
       "      <td>(96.0, 102.0]</td>\n",
       "      <td>0</td>\n",
       "    </tr>\n",
       "  </tbody>\n",
       "</table>\n",
       "</div>"
      ],
      "text/plain": [
       "  code_gender flag_own_car flag_own_realty  cnt_children  amt_income_total  \\\n",
       "0           M            Y               Y             0          427500.0   \n",
       "2           M            Y               Y             0          112500.0   \n",
       "3           F            N               Y             0          270000.0   \n",
       "\n",
       "       name_income_type            name_education_type    name_family_status  \\\n",
       "0               Working               Higher education        Civil marriage   \n",
       "2               Working  Secondary / secondary special               Married   \n",
       "3  Commercial associate  Secondary / secondary special  Single / not married   \n",
       "\n",
       "   name_housing_type  months_employed  flag_mobil  flag_work_phone  \\\n",
       "0   Rented apartment            151.0           1                1   \n",
       "2  House / apartment             38.0           1                0   \n",
       "3  House / apartment            102.0           1                0   \n",
       "\n",
       "   flag_email  cnt_fam_members  age  flag_phone occupation_type  target  \\\n",
       "0           0              2.0   32           0             NaN       0   \n",
       "2           0              2.0   58           0  Security staff       0   \n",
       "3           1              1.0   52           1     Sales staff       0   \n",
       "\n",
       "  months_employed_range  has_childs  \n",
       "0        (150.0, 156.0]           0  \n",
       "2          (36.0, 42.0]           0  \n",
       "3         (96.0, 102.0]           0  "
      ]
     },
     "execution_count": 38,
     "metadata": {},
     "output_type": "execute_result"
    }
   ],
   "source": [
    "df_clients.head(3)"
   ]
  },
  {
   "cell_type": "code",
   "execution_count": 41,
   "metadata": {
    "ExecuteTime": {
     "end_time": "2020-05-13T18:51:58.167547Z",
     "start_time": "2020-05-13T18:51:58.155580Z"
    }
   },
   "outputs": [
    {
     "data": {
      "text/plain": [
       "Married                 6323\n",
       "Single / not married    1350\n",
       "Civil marriage           831\n",
       "Separated                566\n",
       "Widow                    385\n",
       "Name: name_family_status, dtype: int64"
      ]
     },
     "execution_count": 41,
     "metadata": {},
     "output_type": "execute_result"
    }
   ],
   "source": [
    "df_clients.name_family_status.value_counts() # juntado / no juntado"
   ]
  },
  {
   "cell_type": "code",
   "execution_count": 42,
   "metadata": {
    "ExecuteTime": {
     "end_time": "2020-05-13T18:53:21.746037Z",
     "start_time": "2020-05-13T18:53:21.733074Z"
    }
   },
   "outputs": [
    {
     "data": {
      "text/plain": [
       "House / apartment      8430\n",
       "With parents            448\n",
       "Municipal apartment     322\n",
       "Rented apartment        144\n",
       "Office apartment         77\n",
       "Co-op apartment          34\n",
       "Name: name_housing_type, dtype: int64"
      ]
     },
     "execution_count": 42,
     "metadata": {},
     "output_type": "execute_result"
    }
   ],
   "source": [
    "df_clients.name_housing_type.value_counts() # casa propia / no propia"
   ]
  },
  {
   "cell_type": "markdown",
   "metadata": {
    "ExecuteTime": {
     "end_time": "2020-05-13T17:41:25.254740Z",
     "start_time": "2020-05-13T17:41:25.235791Z"
    }
   },
   "source": [
    "## Generating test, train & validation sets "
   ]
  },
  {
   "cell_type": "code",
   "execution_count": 31,
   "metadata": {
    "ExecuteTime": {
     "end_time": "2020-05-13T18:13:56.196118Z",
     "start_time": "2020-05-13T18:13:56.178168Z"
    },
    "hide_input": true
   },
   "outputs": [
    {
     "name": "stdout",
     "output_type": "stream",
     "text": [
      "data generating was successfully...\n"
     ]
    }
   ],
   "source": [
    "# Test, train & validation sets\n",
    "train, not_train = train_test_split(df_clients, test_size=0.3, random_state=1)\n",
    "validation, test = train_test_split(not_train, test_size=0.5, random_state=1)\n",
    "\n",
    "print('data generating was successfully...')"
   ]
  },
  {
   "cell_type": "code",
   "execution_count": null,
   "metadata": {
    "ExecuteTime": {
     "end_time": "2020-05-13T18:41:03.262493Z",
     "start_time": "2020-05-13T18:41:03.198660Z"
    }
   },
   "outputs": [],
   "source": []
  },
  {
   "cell_type": "code",
   "execution_count": null,
   "metadata": {},
   "outputs": [],
   "source": []
  }
 ],
 "metadata": {
  "kernelspec": {
   "display_name": "Python 3",
   "language": "python",
   "name": "python3"
  },
  "language_info": {
   "codemirror_mode": {
    "name": "ipython",
    "version": 3
   },
   "file_extension": ".py",
   "mimetype": "text/x-python",
   "name": "python",
   "nbconvert_exporter": "python",
   "pygments_lexer": "ipython3",
   "version": "3.7.0"
  },
  "toc": {
   "base_numbering": 1,
   "nav_menu": {},
   "number_sections": true,
   "sideBar": true,
   "skip_h1_title": false,
   "title_cell": "Table of Contents",
   "title_sidebar": "Contents",
   "toc_cell": false,
   "toc_position": {},
   "toc_section_display": true,
   "toc_window_display": false
  }
 },
 "nbformat": 4,
 "nbformat_minor": 4
}
